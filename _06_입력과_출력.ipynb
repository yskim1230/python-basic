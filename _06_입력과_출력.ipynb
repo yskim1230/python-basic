{
  "nbformat": 4,
  "nbformat_minor": 0,
  "metadata": {
    "colab": {
      "provenance": [],
      "include_colab_link": true
    },
    "kernelspec": {
      "name": "python3",
      "display_name": "Python 3"
    }
  },
  "cells": [
    {
      "cell_type": "markdown",
      "metadata": {
        "id": "view-in-github",
        "colab_type": "text"
      },
      "source": [
        "<a href=\"https://colab.research.google.com/github/yskim1230/python-basic/blob/main/_06_%EC%9E%85%EB%A0%A5%EA%B3%BC_%EC%B6%9C%EB%A0%A5.ipynb\" target=\"_parent\"><img src=\"https://colab.research.google.com/assets/colab-badge.svg\" alt=\"Open In Colab\"/></a>"
      ]
    },
    {
      "cell_type": "markdown",
      "metadata": {
        "id": "bg5ZXMV2sn1M"
      },
      "source": [
        "# 입력과 출력"
      ]
    },
    {
      "cell_type": "markdown",
      "metadata": {
        "id": "Lj_iZPKnCRP0"
      },
      "source": [
        "\n",
        "\n",
        "---\n",
        "\n"
      ]
    },
    {
      "cell_type": "markdown",
      "metadata": {
        "id": "zXbENjlMCrkU"
      },
      "source": [
        "## 표준 입출력(Standard Input/Output)\n",
        "\n"
      ]
    },
    {
      "cell_type": "markdown",
      "metadata": {
        "id": "QerabWfwCvtt"
      },
      "source": [
        "### 표준 입력 함수\n"
      ]
    },
    {
      "cell_type": "code",
      "metadata": {
        "id": "22ALZ21LE60j"
      },
      "source": [],
      "execution_count": null,
      "outputs": []
    },
    {
      "cell_type": "markdown",
      "metadata": {
        "id": "7eTpB0QqxKI5"
      },
      "source": [
        "#### [Lab] 섭씨 온도를 화씨 온도로 변환\n",
        "\n",
        "* 섭씨 온도를 화씨 온도로 변환하는 공식: $F = (C * 1.8) + 32$"
      ]
    },
    {
      "cell_type": "code",
      "metadata": {
        "id": "ILFOCS30xVAJ"
      },
      "source": [],
      "execution_count": null,
      "outputs": []
    },
    {
      "cell_type": "markdown",
      "metadata": {
        "id": "i8D8CzQAyLET"
      },
      "source": [
        "#### [Lab] 구구단 중의 하나의 단을 입력받아 계산\n",
        "\n",
        "* 출력할 단을 입력\n",
        "* 해당 단의 계산 결과 출력"
      ]
    },
    {
      "cell_type": "code",
      "metadata": {
        "id": "s5_zXZsvyXu1"
      },
      "source": [],
      "execution_count": null,
      "outputs": []
    },
    {
      "cell_type": "markdown",
      "metadata": {
        "id": "dq9yEA9J20Mg"
      },
      "source": [
        "### 표준 출력 함수\n"
      ]
    },
    {
      "cell_type": "code",
      "metadata": {
        "id": "pUGNUXMx292v"
      },
      "source": [],
      "execution_count": null,
      "outputs": []
    },
    {
      "cell_type": "markdown",
      "metadata": {
        "id": "ll_m-EALwmJ-"
      },
      "source": [
        "#### [Lab] 구구단 출력\n",
        "\n",
        "* `print()` 함수를 사용하여 각 단마다 횡으로 출력\n"
      ]
    },
    {
      "cell_type": "code",
      "metadata": {
        "id": "wgtwEAQywy03"
      },
      "source": [],
      "execution_count": null,
      "outputs": []
    },
    {
      "cell_type": "markdown",
      "metadata": {
        "id": "0BWIlqrPCr__"
      },
      "source": [
        "\n",
        "\n",
        "---\n",
        "\n"
      ]
    },
    {
      "cell_type": "markdown",
      "metadata": {
        "id": "ZfKg8LniN113"
      },
      "source": [
        "## 파일 입출력(File Input/Output)\n"
      ]
    },
    {
      "cell_type": "markdown",
      "metadata": {
        "id": "mwhDmG2GBd-P"
      },
      "source": [
        "### 파일 입출력 과정\n",
        "\n",
        "* 파일의 입출력 과정은 단계를 가짐\n",
        "* 파일을 열고, 파일을 읽거나 쓰고, 파일을 닫는 순서"
      ]
    },
    {
      "cell_type": "markdown",
      "metadata": {
        "id": "lTETVHfIBYER"
      },
      "source": [
        "### 파일 열기/닫기\n",
        "\n",
        "* file.txt 파일을 생성하고, 열고 닫기\n"
      ]
    },
    {
      "cell_type": "code",
      "metadata": {
        "id": "nea-tg6gNSQB"
      },
      "source": [],
      "execution_count": null,
      "outputs": []
    },
    {
      "cell_type": "code",
      "metadata": {
        "id": "dzvmCBufDrhK"
      },
      "source": [],
      "execution_count": null,
      "outputs": []
    },
    {
      "cell_type": "markdown",
      "metadata": {
        "id": "h1fePk0YCnXV"
      },
      "source": [
        "### 파일 모드(File Mode)\n"
      ]
    },
    {
      "cell_type": "markdown",
      "metadata": {
        "id": "iCfc-ODYDZQY"
      },
      "source": [
        "### 텍스트 파일 쓰기\n"
      ]
    },
    {
      "cell_type": "markdown",
      "metadata": {
        "id": "Hpq36wnEGoYT"
      },
      "source": [
        "#### write()\n",
        "\n",
        "* `write()`를 이용하여 파일에 쓰기"
      ]
    },
    {
      "cell_type": "code",
      "metadata": {
        "id": "7TftagQSBp7Y"
      },
      "source": [],
      "execution_count": null,
      "outputs": []
    },
    {
      "cell_type": "code",
      "metadata": {
        "id": "Vu2IvULnDo71"
      },
      "source": [],
      "execution_count": null,
      "outputs": []
    },
    {
      "cell_type": "markdown",
      "metadata": {
        "id": "JP9cNh9bGso1"
      },
      "source": [
        "#### writelines()\n",
        "\n",
        "* `writelines()`를 이용하여 list를 파일에 쓰기"
      ]
    },
    {
      "cell_type": "code",
      "metadata": {
        "id": "uQih5aQjD1ie"
      },
      "source": [],
      "execution_count": null,
      "outputs": []
    },
    {
      "cell_type": "code",
      "metadata": {
        "id": "tziPz-7uHDIN"
      },
      "source": [],
      "execution_count": null,
      "outputs": []
    },
    {
      "cell_type": "markdown",
      "metadata": {
        "id": "Y4JzUhHklI3f"
      },
      "source": [
        "#### 표준 입력 → 파일 쓰기\n",
        "\n",
        "* 표준 입력을 `input()` 함수를 통해 입력 받고, `write()` 함수를 통해 파일에 쓰기"
      ]
    },
    {
      "cell_type": "code",
      "metadata": {
        "id": "0hUDWW-zHJp3"
      },
      "source": [],
      "execution_count": null,
      "outputs": []
    },
    {
      "cell_type": "code",
      "metadata": {
        "id": "YX-QNXwEjEA0"
      },
      "source": [],
      "execution_count": null,
      "outputs": []
    },
    {
      "cell_type": "code",
      "metadata": {
        "id": "x3bZ3RoOjFf4"
      },
      "source": [],
      "execution_count": null,
      "outputs": []
    },
    {
      "cell_type": "code",
      "metadata": {
        "id": "6p_C8UUjmMSF"
      },
      "source": [],
      "execution_count": null,
      "outputs": []
    },
    {
      "cell_type": "code",
      "metadata": {
        "id": "aZyEMmshkV-j"
      },
      "source": [],
      "execution_count": null,
      "outputs": []
    },
    {
      "cell_type": "code",
      "metadata": {
        "id": "7szpp1H5kWrr"
      },
      "source": [],
      "execution_count": null,
      "outputs": []
    },
    {
      "cell_type": "markdown",
      "metadata": {
        "id": "WNkV859qiqU1"
      },
      "source": [
        "### [Lab] 구구단 결과를 파일에 쓰기\n",
        "\n",
        "* 구구단 결과를 파일에 쓰기"
      ]
    },
    {
      "cell_type": "code",
      "metadata": {
        "id": "Z-Dj-GKcnyvq"
      },
      "source": [],
      "execution_count": null,
      "outputs": []
    },
    {
      "cell_type": "code",
      "metadata": {
        "id": "KGuAERghrA1X"
      },
      "source": [],
      "execution_count": null,
      "outputs": []
    },
    {
      "cell_type": "markdown",
      "metadata": {
        "id": "Qb_pHnyWmXhf"
      },
      "source": [
        "### 텍스트 파일 출력\n"
      ]
    },
    {
      "cell_type": "markdown",
      "metadata": {
        "id": "04674ECuaVeg"
      },
      "source": [
        "* 텍스트 파일 예제"
      ]
    },
    {
      "cell_type": "code",
      "metadata": {
        "id": "ZBqDkuKHmPRl"
      },
      "source": [],
      "execution_count": null,
      "outputs": []
    },
    {
      "cell_type": "markdown",
      "metadata": {
        "id": "ynAP34NKmzBs"
      },
      "source": [
        "#### readline()\n",
        "\n",
        "* `readline()`를 이용하여 텍스트 파일을 라인 단위로 읽고 화면에 출력"
      ]
    },
    {
      "cell_type": "code",
      "metadata": {
        "id": "aSr5-3jbTpXL"
      },
      "source": [],
      "execution_count": null,
      "outputs": []
    },
    {
      "cell_type": "markdown",
      "metadata": {
        "id": "wfRSe7X7YQQr"
      },
      "source": [
        "#### readlines()\n",
        "\n",
        "* `readlines()`를 이용하여 텍스트 파일의 여러 라인을 읽고 화면에 출력"
      ]
    },
    {
      "cell_type": "code",
      "metadata": {
        "id": "UKvvxHziYdgS"
      },
      "source": [],
      "execution_count": null,
      "outputs": []
    },
    {
      "cell_type": "markdown",
      "metadata": {
        "id": "AW6SmMx8aEVn"
      },
      "source": [
        "#### read()\n",
        "\n",
        "* `read()`를 이용하여 텍스트 파일을 읽고 화면에 출력"
      ]
    },
    {
      "cell_type": "code",
      "metadata": {
        "id": "WGgYorQ0Yi6c"
      },
      "source": [],
      "execution_count": null,
      "outputs": []
    },
    {
      "cell_type": "markdown",
      "metadata": {
        "id": "Qy5AKrmZexQR"
      },
      "source": [
        "#### tell()\n",
        "\n",
        "* 파일 포인터 위치 변경"
      ]
    },
    {
      "cell_type": "code",
      "metadata": {
        "id": "b5FgVeUjaeB1"
      },
      "source": [],
      "execution_count": null,
      "outputs": []
    },
    {
      "cell_type": "markdown",
      "metadata": {
        "id": "TGOuMtV-fmzX"
      },
      "source": [
        "#### seek()\n",
        "\n",
        "* 파일 포인터 위치 이동"
      ]
    },
    {
      "cell_type": "code",
      "metadata": {
        "id": "iv9v8YgWe7ps"
      },
      "source": [],
      "execution_count": null,
      "outputs": []
    },
    {
      "cell_type": "markdown",
      "metadata": {
        "id": "L_Suw_pGgTir"
      },
      "source": [
        "### with 문\n",
        "\n",
        "* 항상 파일을 `open()` 함수로 열고, `close()` 함수로 닫아야 하는 일을 자동으로 처리\n",
        "* with문을 이용하면 with 블록 내에서 파일을 열고 벗어나면 파일을 닫음"
      ]
    },
    {
      "cell_type": "code",
      "metadata": {
        "id": "UoCCDoZSfxfm"
      },
      "source": [],
      "execution_count": null,
      "outputs": []
    },
    {
      "cell_type": "code",
      "metadata": {
        "id": "SQRXWFlrgsoz"
      },
      "source": [],
      "execution_count": null,
      "outputs": []
    },
    {
      "cell_type": "markdown",
      "metadata": {
        "id": "pdqlyRyrhJrO"
      },
      "source": [
        "### [Lab] 표준 입력으로 받은 내용을 파일로 쓰기\n",
        "\n",
        "* 사용자로부터 표준 입력 받음\n",
        "* 받은 내용을 계속 파일 쓰기"
      ]
    },
    {
      "cell_type": "code",
      "metadata": {
        "id": "Qy7mVrrggx8r"
      },
      "source": [],
      "execution_count": null,
      "outputs": []
    },
    {
      "cell_type": "code",
      "metadata": {
        "id": "CyogsvI8pHDH"
      },
      "source": [],
      "execution_count": null,
      "outputs": []
    },
    {
      "cell_type": "markdown",
      "metadata": {
        "id": "8u3USAlzkYBc"
      },
      "source": [
        "* 이진 파일(이미지) 예제\n"
      ]
    },
    {
      "cell_type": "code",
      "metadata": {
        "id": "zf2Cv4xBkcZ6"
      },
      "source": [],
      "execution_count": null,
      "outputs": []
    },
    {
      "cell_type": "code",
      "metadata": {
        "id": "-79_rqZSlAAj"
      },
      "source": [],
      "execution_count": null,
      "outputs": []
    },
    {
      "cell_type": "markdown",
      "metadata": {
        "id": "xAIKkI0kkNCc"
      },
      "source": [
        "### 이진 파일 복사\n",
        "\n",
        "* 하나의 이진 파일을 읽어서 다른 이진 파일로 쓰기 (복사)"
      ]
    },
    {
      "cell_type": "code",
      "metadata": {
        "id": "O1Lgc0xJifEe"
      },
      "source": [],
      "execution_count": null,
      "outputs": []
    },
    {
      "cell_type": "code",
      "metadata": {
        "id": "FYokBMPGloiG"
      },
      "source": [],
      "execution_count": null,
      "outputs": []
    },
    {
      "cell_type": "markdown",
      "metadata": {
        "id": "6cGa9Yu6aYTw"
      },
      "source": [
        "## 디렉토리 및 파일 처리"
      ]
    },
    {
      "cell_type": "markdown",
      "metadata": {
        "id": "Gx6vy4ugmTx3"
      },
      "source": [
        "### 디렉토리 생성\n",
        "\n",
        "* 디렉토리와 파일을 다루는 다양한 함수를 제공하는 shutil와 os 라이브러리\n",
        "* `mkdir()`: 디렉토리 생성"
      ]
    },
    {
      "cell_type": "code",
      "metadata": {
        "id": "7BjQCHTelp3J"
      },
      "source": [],
      "execution_count": null,
      "outputs": []
    },
    {
      "cell_type": "code",
      "metadata": {
        "id": "C7MpVtiJmi24"
      },
      "source": [],
      "execution_count": null,
      "outputs": []
    },
    {
      "cell_type": "code",
      "metadata": {
        "id": "bTzCbKxGmmYD"
      },
      "source": [],
      "execution_count": null,
      "outputs": []
    },
    {
      "cell_type": "markdown",
      "metadata": {
        "id": "O_RHayEvmsZI"
      },
      "source": [
        "### 디렉토리 및 파일 복사\n",
        "\n",
        "* `shutil.copy()`: 파일 복사\n",
        "* `shutil.copytree()`: 디렉토리 전체 복사"
      ]
    },
    {
      "cell_type": "code",
      "metadata": {
        "id": "WoEn0xGxmn0n"
      },
      "source": [],
      "execution_count": null,
      "outputs": []
    },
    {
      "cell_type": "code",
      "metadata": {
        "id": "kvhbuSyPnYCw"
      },
      "source": [],
      "execution_count": null,
      "outputs": []
    },
    {
      "cell_type": "code",
      "metadata": {
        "id": "V5TS0NAnnY8z"
      },
      "source": [],
      "execution_count": null,
      "outputs": []
    },
    {
      "cell_type": "code",
      "metadata": {
        "id": "Y_Uglnwjngzs"
      },
      "source": [],
      "execution_count": null,
      "outputs": []
    },
    {
      "cell_type": "code",
      "metadata": {
        "id": "GvoCuP-znh5Z"
      },
      "source": [],
      "execution_count": null,
      "outputs": []
    },
    {
      "cell_type": "markdown",
      "metadata": {
        "id": "V75epsj4nng9"
      },
      "source": [
        "### 디렉토리 및 파일 확인\n",
        "\n",
        "* `isdir()`: 디렉토리 존재 확인\n",
        "* `isfile()`: 파일 존재 확인\n",
        "* `exists()`: 디렉토리/파일 존재 확인"
      ]
    },
    {
      "cell_type": "code",
      "metadata": {
        "id": "aJjYdh2HnjdB"
      },
      "source": [],
      "execution_count": null,
      "outputs": []
    },
    {
      "cell_type": "markdown",
      "metadata": {
        "id": "dmMqt-iCoD8O"
      },
      "source": [
        "### 디렉토리 목록 보기\n",
        "\n",
        "* `os.walk()`: 디렉토리 목록 보기"
      ]
    },
    {
      "cell_type": "code",
      "metadata": {
        "id": "8dl_wZjKn30X"
      },
      "source": [],
      "execution_count": null,
      "outputs": []
    },
    {
      "cell_type": "markdown",
      "metadata": {
        "id": "estvZcJApGpc"
      },
      "source": [
        "### 디렉토리 및 파일 삭제\n",
        "\n",
        "* `os.remove()`: 파일 삭제\n",
        "* `shutil.rmtree()`: 디렉토리 안에 모든 파일/디렉토리 삭제"
      ]
    },
    {
      "cell_type": "code",
      "metadata": {
        "id": "czvnvkrKoTLm"
      },
      "source": [],
      "execution_count": null,
      "outputs": []
    },
    {
      "cell_type": "code",
      "metadata": {
        "id": "CwMlBpVFpXQ-"
      },
      "source": [],
      "execution_count": null,
      "outputs": []
    },
    {
      "cell_type": "code",
      "metadata": {
        "id": "-dNA3t0Gpb-E"
      },
      "source": [],
      "execution_count": null,
      "outputs": []
    },
    {
      "cell_type": "code",
      "metadata": {
        "id": "NHqsllWupeU2"
      },
      "source": [],
      "execution_count": null,
      "outputs": []
    },
    {
      "cell_type": "markdown",
      "metadata": {
        "id": "DiN7c--0pkYn"
      },
      "source": [
        "### 파일 크기\n",
        "\n",
        "* `os.path.getsize()`: 파일의 크기를 바이트 단위로 출력"
      ]
    },
    {
      "cell_type": "code",
      "metadata": {
        "id": "rmiTPJYDpe9m"
      },
      "source": [],
      "execution_count": null,
      "outputs": []
    },
    {
      "cell_type": "markdown",
      "metadata": {
        "id": "9GITxX2sp0tx"
      },
      "source": [
        "### 파일 압축\n"
      ]
    },
    {
      "cell_type": "code",
      "metadata": {
        "id": "JCXOQV2Ipt-E"
      },
      "source": [],
      "execution_count": null,
      "outputs": []
    },
    {
      "cell_type": "code",
      "metadata": {
        "id": "cpSLp4pGqeec"
      },
      "source": [],
      "execution_count": null,
      "outputs": []
    },
    {
      "cell_type": "code",
      "metadata": {
        "id": "PpUzZdiAqfPp"
      },
      "source": [],
      "execution_count": null,
      "outputs": []
    },
    {
      "cell_type": "code",
      "metadata": {
        "id": "Akgb1WQYqnzq"
      },
      "source": [],
      "execution_count": null,
      "outputs": []
    }
  ]
}