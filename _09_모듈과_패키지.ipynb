{
  "nbformat": 4,
  "nbformat_minor": 0,
  "metadata": {
    "colab": {
      "provenance": [],
      "include_colab_link": true
    },
    "kernelspec": {
      "name": "python3",
      "display_name": "Python 3"
    }
  },
  "cells": [
    {
      "cell_type": "markdown",
      "metadata": {
        "id": "view-in-github",
        "colab_type": "text"
      },
      "source": [
        "<a href=\"https://colab.research.google.com/github/yskim1230/python-basic/blob/main/_09_%EB%AA%A8%EB%93%88%EA%B3%BC_%ED%8C%A8%ED%82%A4%EC%A7%80.ipynb\" target=\"_parent\"><img src=\"https://colab.research.google.com/assets/colab-badge.svg\" alt=\"Open In Colab\"/></a>"
      ]
    },
    {
      "cell_type": "markdown",
      "metadata": {
        "id": "bg5ZXMV2sn1M"
      },
      "source": [
        "# 모듈과 패키지"
      ]
    },
    {
      "cell_type": "markdown",
      "metadata": {
        "id": "Lj_iZPKnCRP0"
      },
      "source": [
        "\n",
        "\n",
        "---\n",
        "\n"
      ]
    },
    {
      "cell_type": "markdown",
      "metadata": {
        "id": "bO6PBIYbZZ_4"
      },
      "source": [
        "### 사용자 정의 모듈\n",
        "\n",
        "* 사용자가 사용할 모듈을 직접 정의\n",
        "* 모듈 이름으로 파일명을 사용"
      ]
    },
    {
      "cell_type": "code",
      "metadata": {
        "id": "CWZ8iKl6ap99",
        "colab": {
          "base_uri": "https://localhost:8080/"
        },
        "outputId": "046a9b46-63ef-46f3-d6f8-d640a6354679"
      },
      "source": [
        "%%writefile Module.py\n",
        "def func1():\n",
        "  print(\"Module.py:func1()\")\n",
        "\n",
        "def func2():\n",
        "  print(\"Module.py:func2()\")\n",
        "\n",
        "def func3():\n",
        "  print(\"Module.py:func3()\")"
      ],
      "execution_count": 1,
      "outputs": [
        {
          "output_type": "stream",
          "name": "stdout",
          "text": [
            "Overwriting Module.py\n"
          ]
        }
      ]
    },
    {
      "cell_type": "code",
      "metadata": {
        "id": "e-nLDjHWb1mX",
        "colab": {
          "base_uri": "https://localhost:8080/"
        },
        "outputId": "3cacb496-21bc-4783-9d52-45772334b730"
      },
      "source": [
        "!ls"
      ],
      "execution_count": 2,
      "outputs": [
        {
          "output_type": "stream",
          "name": "stdout",
          "text": [
            "Module.py  __pycache__\tsample_data\n"
          ]
        }
      ]
    },
    {
      "cell_type": "code",
      "metadata": {
        "id": "bQcfKftxb9uR"
      },
      "source": [
        "%load Module.py"
      ],
      "execution_count": 3,
      "outputs": []
    },
    {
      "cell_type": "code",
      "metadata": {
        "id": "bKlMMA4-cFVA"
      },
      "source": [
        "%run Module.py"
      ],
      "execution_count": 4,
      "outputs": []
    },
    {
      "cell_type": "code",
      "metadata": {
        "id": "qsFSyO7scm1d",
        "colab": {
          "base_uri": "https://localhost:8080/"
        },
        "outputId": "1c3d6c42-af0b-483f-f306-b14c2f9bfcb3"
      },
      "source": [
        "import Module\n",
        "Module.func1()\n",
        "Module.func2()\n",
        "Module.func3()\n"
      ],
      "execution_count": 5,
      "outputs": [
        {
          "output_type": "stream",
          "name": "stdout",
          "text": [
            "Module.py:func1()\n",
            "Module.py:func2()\n",
            "Module.py:func3()\n"
          ]
        }
      ]
    },
    {
      "cell_type": "code",
      "metadata": {
        "id": "d2HOXB12DoqK",
        "colab": {
          "base_uri": "https://localhost:8080/"
        },
        "outputId": "7eeedbd9-3d09-4774-8515-d497ef7ccd07"
      },
      "source": [
        "from Module import *\n",
        "func1()\n",
        "func2()\n",
        "func3()"
      ],
      "execution_count": 6,
      "outputs": [
        {
          "output_type": "stream",
          "name": "stdout",
          "text": [
            "Module.py:func1()\n",
            "Module.py:func2()\n",
            "Module.py:func3()\n"
          ]
        }
      ]
    },
    {
      "cell_type": "markdown",
      "metadata": {
        "id": "3sK8A00OD0wu"
      },
      "source": [
        "#### [Lab] 계산기 모듈 만들기\n",
        "\n",
        "* 사용자 정의 모듈을 이용해서 계산기에 필요한 기능들로 모듈 만들기"
      ]
    },
    {
      "cell_type": "code",
      "metadata": {
        "id": "r7UW1sFYD-fs",
        "colab": {
          "base_uri": "https://localhost:8080/"
        },
        "outputId": "6a146afd-e668-4719-ae2a-96413018da18"
      },
      "source": [
        "%%writefile Caculator.py\n",
        "def add(a,b):\n",
        "  return a + b\n",
        "\n",
        "def sub(a,b):\n",
        "  return a - b\n",
        "\n",
        "def mul(a,b):\n",
        "  return a*b\n",
        "\n",
        "def div(a,b):\n",
        "  return a / b\n",
        "\n",
        "def mod(a,b):\n",
        "  return a % b\n",
        "\n",
        "\n"
      ],
      "execution_count": 8,
      "outputs": [
        {
          "output_type": "stream",
          "name": "stdout",
          "text": [
            "Writing Caculator.py\n"
          ]
        }
      ]
    },
    {
      "cell_type": "code",
      "metadata": {
        "id": "QUKdcfj7Em7-",
        "colab": {
          "base_uri": "https://localhost:8080/"
        },
        "outputId": "4aaa3e69-ccfd-46e2-c646-d2f7dfe5c832"
      },
      "source": [
        "from Caculator import *\n",
        "print(add(3,5))\n",
        "print(sub(3,5))\n",
        "print(mul(3,5))\n",
        "print(div(3,5))\n",
        "print(mod(3,5))"
      ],
      "execution_count": 11,
      "outputs": [
        {
          "output_type": "stream",
          "name": "stdout",
          "text": [
            "8\n",
            "-2\n",
            "15\n",
            "0.6\n",
            "3\n"
          ]
        }
      ]
    },
    {
      "cell_type": "markdown",
      "metadata": {
        "id": "0pHAl9UoZfu6"
      },
      "source": [
        "\n",
        "\n",
        "---\n",
        "\n"
      ]
    },
    {
      "cell_type": "markdown",
      "metadata": {
        "id": "ZkEj_NrE56Xf"
      },
      "source": [
        "### 파이썬 표준 모듈\n",
        "\n",
        "* 파이썬에서 기본으로 내장된 유용한 속성과 함수들이 많음"
      ]
    },
    {
      "cell_type": "code",
      "metadata": {
        "id": "vPxFygaF6KT-",
        "colab": {
          "base_uri": "https://localhost:8080/"
        },
        "outputId": "499d7267-79ae-40c0-9508-5ef0d7394afd"
      },
      "source": [
        "import sys\n",
        "print(sys.builtin_module_names)\n"
      ],
      "execution_count": 12,
      "outputs": [
        {
          "output_type": "stream",
          "name": "stdout",
          "text": [
            "('_abc', '_ast', '_bisect', '_blake2', '_codecs', '_collections', '_csv', '_datetime', '_elementtree', '_functools', '_heapq', '_imp', '_io', '_locale', '_md5', '_operator', '_peg_parser', '_pickle', '_posixsubprocess', '_random', '_sha1', '_sha256', '_sha3', '_sha512', '_signal', '_socket', '_sre', '_stat', '_statistics', '_string', '_struct', '_symtable', '_thread', '_tracemalloc', '_warnings', '_weakref', 'array', 'atexit', 'binascii', 'builtins', 'cmath', 'errno', 'faulthandler', 'fcntl', 'gc', 'grp', 'itertools', 'marshal', 'math', 'posix', 'pwd', 'pyexpat', 'select', 'spwd', 'sys', 'syslog', 'time', 'unicodedata', 'xxsubtype', 'zlib')\n"
          ]
        }
      ]
    },
    {
      "cell_type": "code",
      "metadata": {
        "id": "E6pcvOoT6loa",
        "colab": {
          "base_uri": "https://localhost:8080/"
        },
        "outputId": "b62906c0-fdd8-4244-f73f-c93bcfa0beb9"
      },
      "source": [
        "print(dir(__builtins__))"
      ],
      "execution_count": 13,
      "outputs": [
        {
          "output_type": "stream",
          "name": "stdout",
          "text": [
            "['ArithmeticError', 'AssertionError', 'AttributeError', 'BaseException', 'BlockingIOError', 'BrokenPipeError', 'BufferError', 'BytesWarning', 'ChildProcessError', 'ConnectionAbortedError', 'ConnectionError', 'ConnectionRefusedError', 'ConnectionResetError', 'DeprecationWarning', 'EOFError', 'Ellipsis', 'EnvironmentError', 'Exception', 'False', 'FileExistsError', 'FileNotFoundError', 'FloatingPointError', 'FutureWarning', 'GeneratorExit', 'IOError', 'ImportError', 'ImportWarning', 'IndentationError', 'IndexError', 'InterruptedError', 'IsADirectoryError', 'KeyError', 'KeyboardInterrupt', 'LookupError', 'MemoryError', 'ModuleNotFoundError', 'NameError', 'None', 'NotADirectoryError', 'NotImplemented', 'NotImplementedError', 'OSError', 'OverflowError', 'PendingDeprecationWarning', 'PermissionError', 'ProcessLookupError', 'RecursionError', 'ReferenceError', 'ResourceWarning', 'RuntimeError', 'RuntimeWarning', 'StopAsyncIteration', 'StopIteration', 'SyntaxError', 'SyntaxWarning', 'SystemError', 'SystemExit', 'TabError', 'TimeoutError', 'True', 'TypeError', 'UnboundLocalError', 'UnicodeDecodeError', 'UnicodeEncodeError', 'UnicodeError', 'UnicodeTranslateError', 'UnicodeWarning', 'UserWarning', 'ValueError', 'Warning', 'ZeroDivisionError', '__IPYTHON__', '__build_class__', '__debug__', '__doc__', '__import__', '__loader__', '__name__', '__package__', '__spec__', 'abs', 'all', 'any', 'ascii', 'bin', 'bool', 'breakpoint', 'bytearray', 'bytes', 'callable', 'chr', 'classmethod', 'compile', 'complex', 'copyright', 'credits', 'delattr', 'dict', 'dir', 'display', 'divmod', 'enumerate', 'eval', 'exec', 'execfile', 'filter', 'float', 'format', 'frozenset', 'get_ipython', 'getattr', 'globals', 'hasattr', 'hash', 'help', 'hex', 'id', 'input', 'int', 'isinstance', 'issubclass', 'iter', 'len', 'license', 'list', 'locals', 'map', 'max', 'memoryview', 'min', 'next', 'object', 'oct', 'open', 'ord', 'pow', 'print', 'property', 'range', 'repr', 'reversed', 'round', 'runfile', 'set', 'setattr', 'slice', 'sorted', 'staticmethod', 'str', 'sum', 'super', 'tuple', 'type', 'vars', 'zip']\n"
          ]
        }
      ]
    },
    {
      "cell_type": "markdown",
      "metadata": {
        "id": "ILtHUW9h6zKi"
      },
      "source": [
        "### 시간 모듈(datetime)\n",
        "\n",
        "* 운영체제가 제공하는 시간 기능을 파이썬에서 사용할 수 있도록 만들어진 모듈\n",
        "* 시간 모듈을 사용하기 위해서는 `import time` 필요"
      ]
    },
    {
      "cell_type": "code",
      "metadata": {
        "id": "MbSkRsQp622D",
        "colab": {
          "base_uri": "https://localhost:8080/"
        },
        "outputId": "1e667a90-420e-468c-83fa-e7104e9041cd"
      },
      "source": [
        "import time\n",
        "print(dir(time))"
      ],
      "execution_count": 14,
      "outputs": [
        {
          "output_type": "stream",
          "name": "stdout",
          "text": [
            "['CLOCK_BOOTTIME', 'CLOCK_MONOTONIC', 'CLOCK_MONOTONIC_RAW', 'CLOCK_PROCESS_CPUTIME_ID', 'CLOCK_REALTIME', 'CLOCK_TAI', 'CLOCK_THREAD_CPUTIME_ID', '_STRUCT_TM_ITEMS', '__doc__', '__loader__', '__name__', '__package__', '__spec__', 'altzone', 'asctime', 'clock_getres', 'clock_gettime', 'clock_gettime_ns', 'clock_settime', 'clock_settime_ns', 'ctime', 'daylight', 'get_clock_info', 'gmtime', 'localtime', 'mktime', 'monotonic', 'monotonic_ns', 'perf_counter', 'perf_counter_ns', 'process_time', 'process_time_ns', 'pthread_getcpuclockid', 'sleep', 'strftime', 'strptime', 'struct_time', 'thread_time', 'thread_time_ns', 'time', 'time_ns', 'timezone', 'tzname', 'tzset']\n"
          ]
        }
      ]
    },
    {
      "cell_type": "markdown",
      "metadata": {
        "id": "z9LVec3hYyqa"
      },
      "source": [
        "* 시간 모듈 `time` 예제"
      ]
    },
    {
      "cell_type": "code",
      "metadata": {
        "id": "DnE8kYXuYzC8",
        "colab": {
          "base_uri": "https://localhost:8080/"
        },
        "outputId": "928485a5-e113-4eb4-d739-5225087db437"
      },
      "source": [
        "import time\n",
        "print(time)\n",
        "print(time.time())\n",
        "print(time.time())\n",
        "print(time.time())\n",
        "\n",
        "now = time.gmtime(time.time())\n",
        "print(now)\n",
        "\n",
        "year = str(now.tm_year)\n",
        "month = str(now.tm_mon)\n",
        "day = str(now.tm_mday)\n",
        "print(year+\"년\", month+ \"월\", day + \"일\")\n",
        "\n",
        "hour = str(now.tm_hour)\n",
        "min = str(now.tm_min)\n",
        "sec = str(now.tm_sec)\n",
        "print(hour +\"시\", min+ \"분\", sec + \"초\")\n"
      ],
      "execution_count": 22,
      "outputs": [
        {
          "output_type": "stream",
          "name": "stdout",
          "text": [
            "<module 'time' (built-in)>\n",
            "1681723195.9151125\n",
            "1681723195.9151876\n",
            "1681723195.9152584\n",
            "time.struct_time(tm_year=2023, tm_mon=4, tm_mday=17, tm_hour=9, tm_min=19, tm_sec=55, tm_wday=0, tm_yday=107, tm_isdst=0)\n",
            "2023년 4월 17일\n",
            "9시 19분 55초\n"
          ]
        }
      ]
    },
    {
      "cell_type": "markdown",
      "metadata": {
        "id": "BbFoAvcKYnOI"
      },
      "source": [
        "* 날짜시간 모듈 `datetime`의 `date` 클래스 예제"
      ]
    },
    {
      "cell_type": "code",
      "metadata": {
        "id": "RvkSO1yhYs5W",
        "colab": {
          "base_uri": "https://localhost:8080/"
        },
        "outputId": "4dea3453-325e-4f9d-feec-d464e8956ed0"
      },
      "source": [
        "from datetime import date\n",
        "print(date)\n",
        "print(date(2000,1,1))\n",
        "print(date(year=2010,month= 1, day =1))\n",
        "print(date.today())\n",
        "today = date.today()\n",
        "year = str(today.year)\n",
        "month = str(today.month)\n",
        "day = str(today.day)\n",
        "weekday = \"월화수목금토일\"[today.weekday()]\n",
        "print(year + \"년\", month + \"월\", day + \"일\", weekday + \"요일\")"
      ],
      "execution_count": 33,
      "outputs": [
        {
          "output_type": "stream",
          "name": "stdout",
          "text": [
            "<class 'datetime.date'>\n",
            "2000-01-01\n",
            "2010-01-01\n",
            "2023-04-17\n",
            "2023년 4월 17일 월요일\n"
          ]
        }
      ]
    },
    {
      "cell_type": "markdown",
      "metadata": {
        "id": "MYSooRuLaOym"
      },
      "source": [
        "* 날짜시간 모듈 `datetime`의 `time` 클래스 예제"
      ]
    },
    {
      "cell_type": "code",
      "metadata": {
        "id": "qSF7YJg_aPHn",
        "colab": {
          "base_uri": "https://localhost:8080/"
        },
        "outputId": "d634ab76-123f-4fbb-e10d-e955054d2f51"
      },
      "source": [
        "from datetime import time\n",
        "print(time)\n",
        "print(time(12,0))\n",
        "print(time(14,30))\n",
        "print(time(16,30,45))\n",
        "print(time(18,00,15,100000))\n",
        "now = time(20,40,15,20000)\n",
        "hour = str(now.hour)\n",
        "minute = str(now.minute)\n",
        "sec = str(now.second)\n",
        "msec = str(now.microsecond)\n",
        "print(hour + \"시\" , minute + \"분\", sec + \"초\", msec + \"마이크로초\")\n"
      ],
      "execution_count": 35,
      "outputs": [
        {
          "output_type": "stream",
          "name": "stdout",
          "text": [
            "<class 'datetime.time'>\n",
            "12:00:00\n",
            "14:30:00\n",
            "16:30:45\n",
            "18:00:15.100000\n",
            "20시 40분 15초 20000마이크로초\n"
          ]
        }
      ]
    },
    {
      "cell_type": "markdown",
      "metadata": {
        "id": "sdtzTp5tlqSb"
      },
      "source": [
        "* 날짜시간 모듈 `datetime`의 `datetime` 클래스 예제\n",
        "* 날짜시간을 문자열로 표현하기 위한 `strftime()` 메소드 예제"
      ]
    },
    {
      "cell_type": "code",
      "metadata": {
        "id": "mlwwukrqlsKn",
        "colab": {
          "base_uri": "https://localhost:8080/"
        },
        "outputId": "e75db89f-2d59-4421-e775-954ba7e7f815"
      },
      "source": [
        "from datetime import datetime\n",
        "print(datetime)\n",
        "print(datetime(2020,1,1))\n",
        "print(datetime(2020,1,1,1,15,45))\n",
        "print(datetime.now())\n",
        "\n",
        "print(now.strftime('%Y년 %m월 %d일 %H시 %M분 %S초'))\n",
        "print(now.strftime('%y/%m/%d %p %l: %M:%S:%f'))"
      ],
      "execution_count": 42,
      "outputs": [
        {
          "output_type": "stream",
          "name": "stdout",
          "text": [
            "<class 'datetime.datetime'>\n",
            "2020-01-01 00:00:00\n",
            "2020-01-01 01:15:45\n",
            "2023-04-17 09:32:12.961899\n",
            "1900년 01월 01일 20시 40분 15초\n",
            "00/01/01 PM  8: 40:15:020000\n"
          ]
        }
      ]
    },
    {
      "cell_type": "markdown",
      "metadata": {
        "id": "iE13qouhqEGd"
      },
      "source": [
        "#### [Lab] 태어난지 몇 일이 되었는가?\n",
        "\n",
        "* 태어난지 얼마나 지났는지 계산하기"
      ]
    },
    {
      "cell_type": "code",
      "metadata": {
        "id": "LvW2SqpYpXex",
        "colab": {
          "base_uri": "https://localhost:8080/"
        },
        "outputId": "428d106a-afb1-4da3-a349-0338eb959b3b"
      },
      "source": [
        "from datetime import date\n",
        "birthday = date(1991,12,30)\n",
        "today = date.today()\n",
        "day = today - birthday\n",
        "print(day.days)\n"
      ],
      "execution_count": 44,
      "outputs": [
        {
          "output_type": "stream",
          "name": "stdout",
          "text": [
            "11431\n"
          ]
        }
      ]
    },
    {
      "cell_type": "markdown",
      "metadata": {
        "id": "nl1EYj9c6pTG"
      },
      "source": [
        "### 수학 모듈(math)\n",
        "\n",
        "* 파이썬에서 수학에 필요한 math 모듈 제공\n"
      ]
    },
    {
      "cell_type": "code",
      "metadata": {
        "id": "iwKRg4ZI6sds",
        "colab": {
          "base_uri": "https://localhost:8080/"
        },
        "outputId": "5eb08881-a9ea-4a44-ec7d-d7788d1a72a2"
      },
      "source": [
        "import math\n",
        "print(dir(math))"
      ],
      "execution_count": 46,
      "outputs": [
        {
          "output_type": "stream",
          "name": "stdout",
          "text": [
            "['__doc__', '__loader__', '__name__', '__package__', '__spec__', 'acos', 'acosh', 'asin', 'asinh', 'atan', 'atan2', 'atanh', 'ceil', 'comb', 'copysign', 'cos', 'cosh', 'degrees', 'dist', 'e', 'erf', 'erfc', 'exp', 'expm1', 'fabs', 'factorial', 'floor', 'fmod', 'frexp', 'fsum', 'gamma', 'gcd', 'hypot', 'inf', 'isclose', 'isfinite', 'isinf', 'isnan', 'isqrt', 'lcm', 'ldexp', 'lgamma', 'log', 'log10', 'log1p', 'log2', 'modf', 'nan', 'nextafter', 'perm', 'pi', 'pow', 'prod', 'radians', 'remainder', 'sin', 'sinh', 'sqrt', 'tan', 'tanh', 'tau', 'trunc', 'ulp']\n"
          ]
        }
      ]
    },
    {
      "cell_type": "code",
      "metadata": {
        "id": "d3mmKmFiswty",
        "colab": {
          "base_uri": "https://localhost:8080/"
        },
        "outputId": "fd88bb10-b2de-4eae-bca7-b23ab86ec39b"
      },
      "source": [
        "import math\n",
        "print(math.factorial(5))\n",
        "print(math.gcd(12,24))\n",
        "print(math.floor(math.pi))\n",
        "print(math.ceil(math.pi))\n",
        "print(math.pow(2,10))\n",
        "print(math.log(10,2))\n",
        "print(math.radians(180))\n",
        "print(math.sin(math.radians(90)))"
      ],
      "execution_count": 49,
      "outputs": [
        {
          "output_type": "stream",
          "name": "stdout",
          "text": [
            "120\n",
            "12\n",
            "3\n",
            "4\n",
            "1024.0\n",
            "3.3219280948873626\n",
            "3.141592653589793\n",
            "1.0\n"
          ]
        }
      ]
    },
    {
      "cell_type": "markdown",
      "metadata": {
        "id": "iAbuv-GxzRH0"
      },
      "source": [
        "### 순열과 조합 모듈(itertools)\n",
        "\n",
        "* `itertools` 모듈에서 곱집합, 순열, 조합 등을 구하는 함수 제공\n"
      ]
    },
    {
      "cell_type": "code",
      "metadata": {
        "id": "fG_PztCsz4xk",
        "colab": {
          "base_uri": "https://localhost:8080/"
        },
        "outputId": "a0f01dd4-a1f4-4292-f92b-52b64c0cdb14"
      },
      "source": [
        "import itertools\n",
        "list_1 = ['a','b','c']\n",
        "print(list_1)\n",
        "list_2 = [1,2]\n",
        "print(list_2)\n",
        "\n",
        "list_cp = list(itertools.product(list_1,list_2))\n",
        "print(list_cp)\n",
        "\n",
        "list_p = list(itertools.permutations(list_1,2))\n",
        "print(list_p)\n",
        "\n",
        "list_c = list(itertools.combinations(list_1,2))\n",
        "print(list_c)\n",
        "\n",
        "list_cr = list(itertools.combinations_with_replacement(list_1,2))\n",
        "print(list_cr)"
      ],
      "execution_count": 52,
      "outputs": [
        {
          "output_type": "stream",
          "name": "stdout",
          "text": [
            "['a', 'b', 'c']\n",
            "[1, 2]\n",
            "[('a', 1), ('a', 2), ('b', 1), ('b', 2), ('c', 1), ('c', 2)]\n",
            "[('a', 'b'), ('a', 'c'), ('b', 'a'), ('b', 'c'), ('c', 'a'), ('c', 'b')]\n",
            "[('a', 'b'), ('a', 'c'), ('b', 'c')]\n",
            "[('a', 'a'), ('a', 'b'), ('a', 'c'), ('b', 'b'), ('b', 'c'), ('c', 'c')]\n"
          ]
        }
      ]
    },
    {
      "cell_type": "markdown",
      "metadata": {
        "id": "UNlrNquK2eMg"
      },
      "source": [
        "### 통계 모듈(statistics)\n",
        "\n",
        "* `statistics` 모듈에서는 산술평균, 표준편차 등 통계에 필요한 계산 관련 함수들을 제공\n"
      ]
    },
    {
      "cell_type": "code",
      "metadata": {
        "id": "sqQiNW-k21XJ",
        "colab": {
          "base_uri": "https://localhost:8080/"
        },
        "outputId": "7ce6a860-c383-4e6b-a3c2-81e786fac720"
      },
      "source": [
        "import statistics\n",
        "values = [56, 44, 67, 47,82, 67, 92, 89, 81]\n",
        "print(statistics.median(values))\n",
        "print(statistics.mean(values))\n",
        "print(statistics.harmonic_mean(values))\n",
        "print(statistics.stdev(values))\n",
        "print(statistics.variance(values))"
      ],
      "execution_count": 56,
      "outputs": [
        {
          "output_type": "stream",
          "name": "stdout",
          "text": [
            "67\n",
            "69.44444444444444\n",
            "65.04860486491874\n",
            "17.770137247015786\n",
            "315.77777777777777\n"
          ]
        }
      ]
    },
    {
      "cell_type": "markdown",
      "metadata": {
        "id": "nwW2LgNc67u3"
      },
      "source": [
        "### 랜덤 모듈(random)\n",
        "\n",
        "* 랜덤 모듈을 사용하기 위해서는 `import random` 필요"
      ]
    },
    {
      "cell_type": "code",
      "metadata": {
        "id": "PuAbFRsa7IUH",
        "colab": {
          "base_uri": "https://localhost:8080/"
        },
        "outputId": "b04c00cd-cb16-414a-c612-817705423037"
      },
      "source": [
        "import random\n",
        "print(random.random())\n",
        "print(random.randint(1,10))\n",
        "print(random.randrange(0,10,2))"
      ],
      "execution_count": 57,
      "outputs": [
        {
          "output_type": "stream",
          "name": "stdout",
          "text": [
            "0.4207723719161287\n",
            "6\n",
            "8\n"
          ]
        }
      ]
    },
    {
      "cell_type": "code",
      "metadata": {
        "id": "aDz_82bc7qJx",
        "colab": {
          "base_uri": "https://localhost:8080/"
        },
        "outputId": "f10111c2-540d-4241-b529-bcfced53754d"
      },
      "source": [
        "li = [10,20,30,40,50,60]\n",
        "print(li)\n",
        "print(random.choice(li))\n",
        "print(random.sample(li,2))\n",
        "random.shuffle(li)\n",
        "print(li)"
      ],
      "execution_count": 58,
      "outputs": [
        {
          "output_type": "stream",
          "name": "stdout",
          "text": [
            "[10, 20, 30, 40, 50, 60]\n",
            "40\n",
            "[40, 20]\n",
            "[30, 40, 50, 10, 20, 60]\n"
          ]
        }
      ]
    },
    {
      "cell_type": "markdown",
      "metadata": {
        "id": "RFMGmK8r79zv"
      },
      "source": [
        "### 네임스페이스(Namespace)\n",
        "\n",
        "* 모듈 호출의 범위 지정\n",
        "* 모듈 이름에 alias를 생성하여 모듈의 이름을 바꿔 사용"
      ]
    },
    {
      "cell_type": "code",
      "metadata": {
        "id": "OmY9T8g68M5J",
        "colab": {
          "base_uri": "https://localhost:8080/"
        },
        "outputId": "0fd0448d-a28e-46e6-84ad-acaad7f44be9"
      },
      "source": [
        "import random as rd\n",
        "print(rd.random())\n",
        "print(rd.randrange(0,10,2))"
      ],
      "execution_count": 59,
      "outputs": [
        {
          "output_type": "stream",
          "name": "stdout",
          "text": [
            "0.3078500385172813\n",
            "4\n"
          ]
        }
      ]
    },
    {
      "cell_type": "markdown",
      "metadata": {
        "id": "ijyblqrg8NfX"
      },
      "source": [
        "* from 구문을 사용하여 모듈에서 특정 함수 또는 클래스만 호출"
      ]
    },
    {
      "cell_type": "code",
      "metadata": {
        "id": "YwkdUeaL8PeK",
        "colab": {
          "base_uri": "https://localhost:8080/"
        },
        "outputId": "3334542c-c7f0-4741-b3b2-554bf0711fdd"
      },
      "source": [
        "from random import randrange, random\n",
        "print(random())\n",
        "print(randrange(0,10,2))"
      ],
      "execution_count": 60,
      "outputs": [
        {
          "output_type": "stream",
          "name": "stdout",
          "text": [
            "0.24858849297201435\n",
            "6\n"
          ]
        }
      ]
    },
    {
      "cell_type": "markdown",
      "metadata": {
        "id": "6jIH8CcK8P9Q"
      },
      "source": [
        "* '*'을 사용하여 모듈 안에 모든 함수, 클래스, 변수를 가져옴"
      ]
    },
    {
      "cell_type": "code",
      "metadata": {
        "id": "NdCD7wxF8Rpj",
        "colab": {
          "base_uri": "https://localhost:8080/"
        },
        "outputId": "5a62abbf-8d6b-4df3-eb7c-10a06f7f2fe9"
      },
      "source": [
        "from random import *\n",
        "print(random())\n",
        "print(randrange(0,10,2))"
      ],
      "execution_count": 61,
      "outputs": [
        {
          "output_type": "stream",
          "name": "stdout",
          "text": [
            "0.25904049765901505\n",
            "8\n"
          ]
        }
      ]
    },
    {
      "cell_type": "markdown",
      "metadata": {
        "id": "qQc_0nwV1YyE"
      },
      "source": [
        "## 패키지(Packages)\n"
      ]
    },
    {
      "cell_type": "code",
      "metadata": {
        "id": "jekuqE1NI0mJ"
      },
      "source": [
        "!mkdir package\n",
        "!mkdir package/sub_package_1\n",
        "!mkdir package/sub_package_2\n",
        "!mkdir package/sub_package_3"
      ],
      "execution_count": 62,
      "outputs": []
    },
    {
      "cell_type": "code",
      "metadata": {
        "id": "bPz0apRgJSJ-",
        "colab": {
          "base_uri": "https://localhost:8080/"
        },
        "outputId": "f4a38c2a-0615-4454-a425-7772c104c194"
      },
      "source": [
        "!ls package"
      ],
      "execution_count": 63,
      "outputs": [
        {
          "output_type": "stream",
          "name": "stdout",
          "text": [
            "sub_package_1  sub_package_2  sub_package_3\n"
          ]
        }
      ]
    },
    {
      "cell_type": "code",
      "metadata": {
        "id": "Z39w6vP1Jnuu",
        "colab": {
          "base_uri": "https://localhost:8080/"
        },
        "outputId": "b6ff1864-84f8-46e6-ad8d-448857aa0f0a"
      },
      "source": [
        "%%writefile package/sub_package_1/sub1_module_1.py\n",
        "def print_module():\n",
        "  print(\"sub_package_1/sub1_module_1\")"
      ],
      "execution_count": 64,
      "outputs": [
        {
          "output_type": "stream",
          "name": "stdout",
          "text": [
            "Writing package/sub_package_1/sub1_module_1.py\n"
          ]
        }
      ]
    },
    {
      "cell_type": "code",
      "metadata": {
        "id": "6U6AkKypKILn",
        "colab": {
          "base_uri": "https://localhost:8080/"
        },
        "outputId": "7163cfaf-cb5e-4a13-8318-6e79256a42fb"
      },
      "source": [
        "%%writefile package/sub_package_1/sub1_module_2.py\n",
        "def print_module():\n",
        "  print(\"sub_package_1/sub1_module_2\")"
      ],
      "execution_count": 65,
      "outputs": [
        {
          "output_type": "stream",
          "name": "stdout",
          "text": [
            "Writing package/sub_package_1/sub1_module_2.py\n"
          ]
        }
      ]
    },
    {
      "cell_type": "code",
      "metadata": {
        "id": "RSuJJKzvKKx6",
        "colab": {
          "base_uri": "https://localhost:8080/"
        },
        "outputId": "efd50e4e-696d-4487-823f-16fa4ffefb57"
      },
      "source": [
        "%%writefile package/sub_package_2/sub2_module_1.py\n",
        "def print_module():\n",
        "  print(\"sub_package_2/sub2_module_1\")"
      ],
      "execution_count": 66,
      "outputs": [
        {
          "output_type": "stream",
          "name": "stdout",
          "text": [
            "Writing package/sub_package_2/sub2_module_1.py\n"
          ]
        }
      ]
    },
    {
      "cell_type": "code",
      "metadata": {
        "id": "BhqpvBAXKNGo",
        "colab": {
          "base_uri": "https://localhost:8080/"
        },
        "outputId": "e7cd4b04-3dfd-4cf3-8b66-9961ca9709c2"
      },
      "source": [
        "%%writefile package/sub_package_2/sub2_module_2.py\n",
        "def print_module():\n",
        "  print(\"sub_package_2/sub2_module_2\")"
      ],
      "execution_count": 67,
      "outputs": [
        {
          "output_type": "stream",
          "name": "stdout",
          "text": [
            "Writing package/sub_package_2/sub2_module_2.py\n"
          ]
        }
      ]
    },
    {
      "cell_type": "code",
      "metadata": {
        "id": "mRe1x_7XKORQ",
        "colab": {
          "base_uri": "https://localhost:8080/"
        },
        "outputId": "a5ea0b2a-70a2-4ba0-bf28-814acb8a716c"
      },
      "source": [
        "%%writefile package/sub_package_3/sub3_module_1.py\n",
        "def print_module():\n",
        "  print(\"sub_package_3/sub3_module_1\")"
      ],
      "execution_count": 68,
      "outputs": [
        {
          "output_type": "stream",
          "name": "stdout",
          "text": [
            "Writing package/sub_package_3/sub3_module_1.py\n"
          ]
        }
      ]
    },
    {
      "cell_type": "code",
      "metadata": {
        "id": "8kQUk7O0KP3w",
        "colab": {
          "base_uri": "https://localhost:8080/"
        },
        "outputId": "cbe6736b-3886-4c62-8167-f215e148e191"
      },
      "source": [
        "%%writefile package/sub_package_3/sub3_module_2.py\n",
        "def print_module():\n",
        "  print(\"sub_package_3/sub3_module_2\")"
      ],
      "execution_count": 69,
      "outputs": [
        {
          "output_type": "stream",
          "name": "stdout",
          "text": [
            "Writing package/sub_package_3/sub3_module_2.py\n"
          ]
        }
      ]
    },
    {
      "cell_type": "markdown",
      "metadata": {
        "id": "wljVmXlNIrvv"
      },
      "source": [
        "### 패키지 실행\n",
        "\n",
        "* 정의한 패키지의 모듈 실행"
      ]
    },
    {
      "cell_type": "code",
      "metadata": {
        "id": "3yew_JCLMsp7",
        "colab": {
          "base_uri": "https://localhost:8080/"
        },
        "outputId": "684da83f-b16d-4892-ccef-cd463d5b503a"
      },
      "source": [
        "from package.sub_package_1 import sub1_module_1, sub1_module_2\n",
        "sub1_module_1.print_module()\n",
        "sub1_module_2.print_module()"
      ],
      "execution_count": 70,
      "outputs": [
        {
          "output_type": "stream",
          "name": "stdout",
          "text": [
            "sub_package_1/sub1_module_1\n",
            "sub_package_1/sub1_module_2\n"
          ]
        }
      ]
    },
    {
      "cell_type": "code",
      "metadata": {
        "id": "vkRbKEa8NOmh",
        "colab": {
          "base_uri": "https://localhost:8080/"
        },
        "outputId": "d624b18d-c5c3-4d3f-f3ab-4bba15f8d974"
      },
      "source": [
        "from package.sub_package_2 import sub2_module_1, sub2_module_2\n",
        "sub2_module_1.print_module()\n",
        "sub2_module_2.print_module()"
      ],
      "execution_count": 71,
      "outputs": [
        {
          "output_type": "stream",
          "name": "stdout",
          "text": [
            "sub_package_2/sub2_module_1\n",
            "sub_package_2/sub2_module_2\n"
          ]
        }
      ]
    },
    {
      "cell_type": "code",
      "metadata": {
        "id": "3d0daVmONRBT",
        "colab": {
          "base_uri": "https://localhost:8080/"
        },
        "outputId": "b5def99b-361f-447d-a011-c86e96b77069"
      },
      "source": [
        "from package.sub_package_3 import sub3_module_1, sub3_module_2\n",
        "sub3_module_1.print_module()\n",
        "sub3_module_2.print_module()"
      ],
      "execution_count": 72,
      "outputs": [
        {
          "output_type": "stream",
          "name": "stdout",
          "text": [
            "sub_package_3/sub3_module_1\n",
            "sub_package_3/sub3_module_2\n"
          ]
        }
      ]
    },
    {
      "cell_type": "code",
      "source": [
        "from package import *\n",
        "sub1_module_1.print_module()\n",
        "sub1_module_2.print_module()\n",
        "sub2_module_1.print_module()\n",
        "sub2_module_2.print_module()\n",
        "sub3_module_1.print_module()\n",
        "sub3_module_2.print_module()"
      ],
      "metadata": {
        "id": "ySIkAowIqy48",
        "outputId": "31dcdfb3-6647-494c-aa30-a151640d292b",
        "colab": {
          "base_uri": "https://localhost:8080/"
        }
      },
      "execution_count": 73,
      "outputs": [
        {
          "output_type": "stream",
          "name": "stdout",
          "text": [
            "sub_package_1/sub1_module_1\n",
            "sub_package_1/sub1_module_2\n",
            "sub_package_2/sub2_module_1\n",
            "sub_package_2/sub2_module_2\n",
            "sub_package_3/sub3_module_1\n",
            "sub_package_3/sub3_module_2\n"
          ]
        }
      ]
    },
    {
      "cell_type": "markdown",
      "metadata": {
        "id": "CrmBC32pe2Ag"
      },
      "source": [
        "### 패키지 구성 파일\n",
        "\n",
        "* \\_\\_init\\_\\_.py\n"
      ]
    },
    {
      "cell_type": "code",
      "metadata": {
        "id": "S80DN-P9IYKw",
        "colab": {
          "base_uri": "https://localhost:8080/"
        },
        "outputId": "81fc353f-fa32-4370-814e-c34bc1abee18"
      },
      "source": [
        "%%writefile package/__init__.py\n",
        "__all__ = ['sub_package_1','sub_package_1','sub_package_1']"
      ],
      "execution_count": 74,
      "outputs": [
        {
          "output_type": "stream",
          "name": "stdout",
          "text": [
            "Writing package/__init__.py\n"
          ]
        }
      ]
    },
    {
      "cell_type": "code",
      "metadata": {
        "id": "T_Lv285gPt_4",
        "colab": {
          "base_uri": "https://localhost:8080/"
        },
        "outputId": "80ad4b1b-29aa-4466-e1e1-f89973f2b96a"
      },
      "source": [
        "%%writefile package/sub_package_1/__init__.py\n",
        "__all__ = ['sub1_module_1','sub1_module_2']"
      ],
      "execution_count": 75,
      "outputs": [
        {
          "output_type": "stream",
          "name": "stdout",
          "text": [
            "Writing package/sub_package_1/__init__.py\n"
          ]
        }
      ]
    },
    {
      "cell_type": "code",
      "metadata": {
        "id": "MWb5eNCAP56o",
        "colab": {
          "base_uri": "https://localhost:8080/"
        },
        "outputId": "fafab821-4d23-4a0c-83bd-677e3e3a3e6a"
      },
      "source": [
        "%%writefile package/sub_package_2/__init__.py\n",
        "__all__ = ['sub2_module_1','sub2_module_2']"
      ],
      "execution_count": 76,
      "outputs": [
        {
          "output_type": "stream",
          "name": "stdout",
          "text": [
            "Writing package/sub_package_2/__init__.py\n"
          ]
        }
      ]
    },
    {
      "cell_type": "code",
      "metadata": {
        "id": "EvYOqe0KP6de"
      },
      "source": [
        "%%writefile package/sub_package_3/__init__.py\n",
        "__all__ = ['sub3_module_1','sub3_module_2']"
      ],
      "execution_count": null,
      "outputs": []
    },
    {
      "cell_type": "code",
      "metadata": {
        "id": "t47pORCoP_Ks",
        "colab": {
          "base_uri": "https://localhost:8080/"
        },
        "outputId": "8a62b813-49c2-4022-d44b-4e9b402a342b"
      },
      "source": [
        "!ls package"
      ],
      "execution_count": 78,
      "outputs": [
        {
          "output_type": "stream",
          "name": "stdout",
          "text": [
            "__init__.py  sub_package_1  sub_package_2  sub_package_3\n"
          ]
        }
      ]
    },
    {
      "cell_type": "code",
      "metadata": {
        "id": "FygAt2laQDes",
        "colab": {
          "base_uri": "https://localhost:8080/"
        },
        "outputId": "3acab6d2-f0ba-4b45-9521-f03a13ab9820"
      },
      "source": [
        "!ls package/sub_package_1"
      ],
      "execution_count": 79,
      "outputs": [
        {
          "output_type": "stream",
          "name": "stdout",
          "text": [
            "__init__.py  __pycache__  sub1_module_1.py  sub1_module_2.py\n"
          ]
        }
      ]
    },
    {
      "cell_type": "markdown",
      "metadata": {
        "id": "ErE9_A3uPcAJ"
      },
      "source": [
        "\n",
        "* \\_\\_main\\_\\_.py\n",
        "  + 패키지 자체를 실행하기 위한 용도\n",
        "  + 패키지를 실행시키면 \\_\\_main\\_\\_.py 실행"
      ]
    },
    {
      "cell_type": "code",
      "metadata": {
        "id": "_leUWfUDNTQZ",
        "colab": {
          "base_uri": "https://localhost:8080/"
        },
        "outputId": "ebb71996-575c-44b0-9d7b-117aaa2cf511"
      },
      "source": [
        "%%writefile package/__main__.py\n",
        "from sub_package_1 import *\n",
        "from sub_package_2 import *\n",
        "from sub_package_3 import *\n",
        "\n",
        "if __name__ == '__main__':\n",
        "  sub1_module_1.print_module()\n",
        "  sub1_module_2.print_module()\n",
        "  sub2_module_1.print_module()\n",
        "  sub2_module_2.print_module()\n",
        "  sub3_module_1.print_module()\n",
        "  sub3_module_2.print_module()\n"
      ],
      "execution_count": 82,
      "outputs": [
        {
          "output_type": "stream",
          "name": "stdout",
          "text": [
            "Overwriting package/__main__.py\n"
          ]
        }
      ]
    },
    {
      "cell_type": "code",
      "metadata": {
        "id": "jl-y2mT6OTb9",
        "colab": {
          "base_uri": "https://localhost:8080/"
        },
        "outputId": "d2dce46d-85d1-4eff-bb1a-63bf9da100b6"
      },
      "source": [
        "!python package"
      ],
      "execution_count": 83,
      "outputs": [
        {
          "output_type": "stream",
          "name": "stdout",
          "text": [
            "sub_package_1/sub1_module_1\n",
            "sub_package_1/sub1_module_2\n",
            "sub_package_2/sub2_module_1\n",
            "sub_package_2/sub2_module_2\n",
            "Traceback (most recent call last):\n",
            "  File \"/usr/lib/python3.9/runpy.py\", line 197, in _run_module_as_main\n",
            "    return _run_code(code, main_globals, None,\n",
            "  File \"/usr/lib/python3.9/runpy.py\", line 87, in _run_code\n",
            "    exec(code, run_globals)\n",
            "  File \"/content/package/__main__.py\", line 10, in <module>\n",
            "    sub3_module_1.print_module()\n",
            "NameError: name 'sub3_module_1' is not defined\n"
          ]
        }
      ]
    },
    {
      "cell_type": "markdown",
      "metadata": {
        "id": "H5rv_z4nZg3v"
      },
      "source": [
        "\n",
        "\n",
        "---\n",
        "\n"
      ]
    }
  ]
}