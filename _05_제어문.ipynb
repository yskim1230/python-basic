{
  "nbformat": 4,
  "nbformat_minor": 0,
  "metadata": {
    "colab": {
      "provenance": [],
      "toc_visible": true,
      "include_colab_link": true
    },
    "kernelspec": {
      "name": "python3",
      "display_name": "Python 3"
    }
  },
  "cells": [
    {
      "cell_type": "markdown",
      "metadata": {
        "id": "view-in-github",
        "colab_type": "text"
      },
      "source": [
        "<a href=\"https://colab.research.google.com/github/yskim1230/python-basic/blob/main/_05_%EC%A0%9C%EC%96%B4%EB%AC%B8.ipynb\" target=\"_parent\"><img src=\"https://colab.research.google.com/assets/colab-badge.svg\" alt=\"Open In Colab\"/></a>"
      ]
    },
    {
      "cell_type": "markdown",
      "metadata": {
        "id": "bg5ZXMV2sn1M"
      },
      "source": [
        "# 제어문(Control Statement)"
      ]
    },
    {
      "cell_type": "markdown",
      "metadata": {
        "id": "Lj_iZPKnCRP0"
      },
      "source": [
        "\n",
        "\n",
        "---\n",
        "\n"
      ]
    },
    {
      "cell_type": "markdown",
      "metadata": {
        "id": "zXbENjlMCrkU"
      },
      "source": [
        "## 조건문(Conditional Statement)\n"
      ]
    },
    {
      "cell_type": "markdown",
      "metadata": {
        "id": "QerabWfwCvtt"
      },
      "source": [
        "### if 문\n"
      ]
    },
    {
      "cell_type": "markdown",
      "metadata": {
        "id": "UkYuDgdYjW1p"
      },
      "source": [
        "* if 문을 이용한 미세먼지 측정\n",
        "  + 미세먼지 농도 pm\n",
        "  + 35 초과는 미세먼지 농도 나쁨"
      ]
    },
    {
      "cell_type": "code",
      "metadata": {
        "id": "22ALZ21LE60j"
      },
      "source": [],
      "execution_count": null,
      "outputs": []
    },
    {
      "cell_type": "markdown",
      "metadata": {
        "id": "of4Jq8l-McX7"
      },
      "source": [
        "### if-else 문\n"
      ]
    },
    {
      "cell_type": "markdown",
      "metadata": {
        "id": "KBi_DsHtkj5R"
      },
      "source": [
        "* if-else 문을 이용한 미세먼지 측정\n",
        "  + 미세먼지 농도 pm\n",
        "  + 36 이상은 미세먼지 농도 나쁨\n",
        "  + 35 이하는 미세먼지 농도 좋음"
      ]
    },
    {
      "cell_type": "code",
      "metadata": {
        "id": "w4JB__zpL_BW"
      },
      "source": [],
      "execution_count": null,
      "outputs": []
    },
    {
      "cell_type": "markdown",
      "metadata": {
        "id": "lcdJvb_vFiKf"
      },
      "source": [
        "### if-elif-else 문\n"
      ]
    },
    {
      "cell_type": "markdown",
      "metadata": {
        "id": "DV4n1qxhnFIV"
      },
      "source": [
        "* if-elif-else 문을 이용한 미세먼지 측정\n",
        "  + 미세먼지 농도 pm\n",
        "  + 미세먼지 농도 0~15: 좋음\n",
        "  + 미세먼지 농도 16~35: 보통\n",
        "  + 미세먼지 농도 36~75: 나쁨\n",
        "  + 미세먼지 농도 76~: 매우나쁨"
      ]
    },
    {
      "cell_type": "code",
      "metadata": {
        "id": "xlo8NoTeF0dV"
      },
      "source": [],
      "execution_count": null,
      "outputs": []
    },
    {
      "cell_type": "markdown",
      "metadata": {
        "id": "PdkLJlqioT_b"
      },
      "source": [
        "### 중첩 if 문\n",
        "\n",
        "\n"
      ]
    },
    {
      "cell_type": "markdown",
      "metadata": {
        "id": "8JdYeATzowCy"
      },
      "source": [
        "* 중첩 if 문을 이용한 미세먼지 측정\n",
        "  + 미세먼지 농도 pm\n",
        "  + 미세먼지 농도 0~15: 좋음\n",
        "  + 미세먼지 농도 16~35: 보통\n",
        "  + 미세먼지 농도 36~75: 나쁨\n",
        "  + 미세먼지 농도 76~: 매우나쁨"
      ]
    },
    {
      "cell_type": "code",
      "metadata": {
        "id": "ZuYX5TCro3B9"
      },
      "source": [],
      "execution_count": null,
      "outputs": []
    },
    {
      "cell_type": "markdown",
      "metadata": {
        "id": "sB6Li0FmU9eM"
      },
      "source": [
        "### if-pass 문\n",
        "\n",
        "* 조건문은 있지만 실행할 문장이 없는 경우, 오류가 발생하지 않도록 무시하고 넘어가는 기능"
      ]
    },
    {
      "cell_type": "code",
      "metadata": {
        "id": "iIOjo8LEVPqy"
      },
      "source": [],
      "execution_count": null,
      "outputs": []
    },
    {
      "cell_type": "markdown",
      "metadata": {
        "id": "ERFC5XXnqTab"
      },
      "source": [
        "### if 조건 연산자\n",
        "\n",
        "* 비교연산자: <, >, ==, !=, >=, <=\n"
      ]
    },
    {
      "cell_type": "code",
      "metadata": {
        "id": "oON1NgdYvSVj"
      },
      "source": [],
      "execution_count": null,
      "outputs": []
    },
    {
      "cell_type": "markdown",
      "metadata": {
        "id": "tsZNODf8vMdM"
      },
      "source": [
        "* 논리연산자: and, or, not"
      ]
    },
    {
      "cell_type": "code",
      "metadata": {
        "id": "xbhbbC_urU5t"
      },
      "source": [],
      "execution_count": null,
      "outputs": []
    },
    {
      "cell_type": "markdown",
      "metadata": {
        "id": "neifpa1BvNya"
      },
      "source": [
        "* 멤버연산자: in, not in\n"
      ]
    },
    {
      "cell_type": "code",
      "metadata": {
        "id": "WWu4uaX5rcTb"
      },
      "source": [],
      "execution_count": null,
      "outputs": []
    },
    {
      "cell_type": "markdown",
      "metadata": {
        "id": "0V1ky9ZMucnL"
      },
      "source": [
        "* 식별연산자: is, is not"
      ]
    },
    {
      "cell_type": "code",
      "metadata": {
        "id": "puETQb28t3ua"
      },
      "source": [],
      "execution_count": null,
      "outputs": []
    },
    {
      "cell_type": "markdown",
      "metadata": {
        "id": "9iV-FsBWzZ0k"
      },
      "source": [
        "### 조건부 표현식(Conditional Expression)\n",
        "\n",
        "* 한 라인으로 조건식을 사용한 표현"
      ]
    },
    {
      "cell_type": "code",
      "metadata": {
        "id": "_oS5aQybzfxw"
      },
      "source": [],
      "execution_count": null,
      "outputs": []
    },
    {
      "cell_type": "markdown",
      "metadata": {
        "id": "iaXO0nIe4IsM"
      },
      "source": [
        "### [Lab] 학생 종류\n",
        "\n",
        "* 8세 미만 \"학생 아님\"\n",
        "* 14세 미만 \"초등학생\"\n",
        "* 17세 미만 \"중학생\"\n",
        "* 20세 미만 \"고등학생\"\n",
        "* 26세 미만 \"대학생\"\n",
        "* 그 외에 \"학생 아님\""
      ]
    },
    {
      "cell_type": "code",
      "metadata": {
        "id": "tiSoSbvB4yZa"
      },
      "source": [],
      "execution_count": null,
      "outputs": []
    },
    {
      "cell_type": "markdown",
      "metadata": {
        "id": "Xaqknnv_5weC"
      },
      "source": [
        "### [Lab] 학점 계산\n",
        "\n",
        "* 95점 이상 \"A+\"\n",
        "* 90점 이상 \"A\"\n",
        "* 85점 이상 \"B+\"\n",
        "* 80점 이상 \"B\"\n",
        "* 75점 이상 \"C+\"\n",
        "* 70점 이상 \"C\"\n",
        "* 65점 이상 \"D+\"\n",
        "* 60점 이상 \"D\"\n",
        "* 그 외 \"F\""
      ]
    },
    {
      "cell_type": "code",
      "metadata": {
        "id": "4fn4sB6a6BUL"
      },
      "source": [],
      "execution_count": null,
      "outputs": []
    },
    {
      "cell_type": "markdown",
      "metadata": {
        "id": "0BWIlqrPCr__"
      },
      "source": [
        "\n",
        "\n",
        "---\n",
        "\n"
      ]
    },
    {
      "cell_type": "markdown",
      "metadata": {
        "id": "ZfKg8LniN113"
      },
      "source": [
        "## 반복문(Repetitive Statement)\n"
      ]
    },
    {
      "cell_type": "markdown",
      "metadata": {
        "id": "tsxOiKAD7Lfw"
      },
      "source": [
        "### while 문\n"
      ]
    },
    {
      "cell_type": "markdown",
      "metadata": {
        "id": "q9SCeICMB32o"
      },
      "source": [
        "* while 문 예제: 1부터 10까지 반복"
      ]
    },
    {
      "cell_type": "code",
      "metadata": {
        "id": "zjBqbHUhPjUX"
      },
      "source": [],
      "execution_count": null,
      "outputs": []
    },
    {
      "cell_type": "markdown",
      "metadata": {
        "id": "GWKxC-EyB-ou"
      },
      "source": [
        "* while 문 예제: 1부터 10까지 더하기"
      ]
    },
    {
      "cell_type": "code",
      "metadata": {
        "id": "KamhbhLtBjyu"
      },
      "source": [],
      "execution_count": null,
      "outputs": []
    },
    {
      "cell_type": "markdown",
      "metadata": {
        "id": "fE4el4w8CVnn"
      },
      "source": [
        "### for 문\n"
      ]
    },
    {
      "cell_type": "markdown",
      "metadata": {
        "id": "Szg_RE0dDVUI"
      },
      "source": [
        "* 리스트 요소 반복"
      ]
    },
    {
      "cell_type": "code",
      "metadata": {
        "id": "q-6XmZ7pCKfu"
      },
      "source": [],
      "execution_count": null,
      "outputs": []
    },
    {
      "cell_type": "markdown",
      "metadata": {
        "id": "Jxy-YCKaJy6U"
      },
      "source": [
        "* 튜플 요소 반복"
      ]
    },
    {
      "cell_type": "code",
      "metadata": {
        "id": "bPTK1Da9DifT"
      },
      "source": [],
      "execution_count": null,
      "outputs": []
    },
    {
      "cell_type": "markdown",
      "metadata": {
        "id": "-a5BBmWHJ08e"
      },
      "source": [
        "* 문자열 요소 반복"
      ]
    },
    {
      "cell_type": "code",
      "metadata": {
        "id": "sg2jzObGDk5u"
      },
      "source": [],
      "execution_count": null,
      "outputs": []
    },
    {
      "cell_type": "markdown",
      "metadata": {
        "id": "6bel7wU6EFp4"
      },
      "source": [
        "#### range()\n"
      ]
    },
    {
      "cell_type": "code",
      "metadata": {
        "id": "sIV6ouO3D1Pj"
      },
      "source": [],
      "execution_count": null,
      "outputs": []
    },
    {
      "cell_type": "code",
      "metadata": {
        "id": "VtCQOfDpGG59"
      },
      "source": [],
      "execution_count": null,
      "outputs": []
    },
    {
      "cell_type": "markdown",
      "metadata": {
        "id": "1otcwtcWGU-Z"
      },
      "source": [
        "* 범위 반복 range를 이용한 구구단"
      ]
    },
    {
      "cell_type": "code",
      "metadata": {
        "id": "0AgNJV5LGJLf"
      },
      "source": [],
      "execution_count": null,
      "outputs": []
    },
    {
      "cell_type": "markdown",
      "metadata": {
        "id": "y9DVAjy0r5Ty"
      },
      "source": [
        "#### _ 기능\n"
      ]
    },
    {
      "cell_type": "code",
      "metadata": {
        "id": "qv8HZNCTsDFf"
      },
      "source": [],
      "execution_count": null,
      "outputs": []
    },
    {
      "cell_type": "code",
      "metadata": {
        "id": "pf8fIpSBsHZL"
      },
      "source": [],
      "execution_count": null,
      "outputs": []
    },
    {
      "cell_type": "markdown",
      "metadata": {
        "id": "-t7UubcSKJHY"
      },
      "source": [
        "### else 문\n",
        "\n",
        "* 반복이 종료된 후에 한번 더 실행되는 문장"
      ]
    },
    {
      "cell_type": "code",
      "metadata": {
        "id": "clXMvxeyMFj_"
      },
      "source": [],
      "execution_count": null,
      "outputs": []
    },
    {
      "cell_type": "code",
      "metadata": {
        "id": "4B6-nPWEGjvG"
      },
      "source": [],
      "execution_count": null,
      "outputs": []
    },
    {
      "cell_type": "markdown",
      "metadata": {
        "id": "BlF9QvR5LTar"
      },
      "source": [
        "### break 문\n",
        "\n",
        "* 반복문 종료"
      ]
    },
    {
      "cell_type": "code",
      "metadata": {
        "id": "u0HvxKWvKSou"
      },
      "source": [],
      "execution_count": null,
      "outputs": []
    },
    {
      "cell_type": "code",
      "metadata": {
        "id": "TJyNX_deMUvq"
      },
      "source": [],
      "execution_count": null,
      "outputs": []
    },
    {
      "cell_type": "markdown",
      "metadata": {
        "id": "m7jZ8oc8Mezu"
      },
      "source": [
        "### continue 문\n",
        "\n",
        "* 반복 조건문으로 이동"
      ]
    },
    {
      "cell_type": "code",
      "metadata": {
        "id": "MpTJ5WtPMbYm"
      },
      "source": [],
      "execution_count": null,
      "outputs": []
    },
    {
      "cell_type": "code",
      "metadata": {
        "id": "2oWKM2NDMqJ4"
      },
      "source": [],
      "execution_count": null,
      "outputs": []
    },
    {
      "cell_type": "markdown",
      "metadata": {
        "id": "qQoq1VqQMxdR"
      },
      "source": [
        "### 리스트 내포(List Comprehension)\n",
        "\n",
        "* 리스트 안에 for 문과 if 문 사용"
      ]
    },
    {
      "cell_type": "code",
      "metadata": {
        "id": "dYS40UmTMuHf"
      },
      "source": [],
      "execution_count": null,
      "outputs": []
    },
    {
      "cell_type": "markdown",
      "metadata": {
        "id": "BNJU3Dz8NEtW"
      },
      "source": [
        "### [Lab] 문자열 반전\n",
        "\n",
        "* 문자열을 역순으로 만들기"
      ]
    },
    {
      "cell_type": "code",
      "metadata": {
        "id": "vtOOAlwBM7Ls"
      },
      "source": [],
      "execution_count": null,
      "outputs": []
    },
    {
      "cell_type": "markdown",
      "metadata": {
        "id": "e-5QZsGNXsrz"
      },
      "source": [
        "\n",
        "\n",
        "---\n",
        "\n"
      ]
    },
    {
      "cell_type": "markdown",
      "metadata": {
        "id": "9ygGlaKjKZRs"
      },
      "source": [
        "## 에러와 예외(Errors and Exceptions)\n",
        "\n",
        "* 프로그램에서는 에러가 발생\n",
        "* 에러에 대한 예외 처리가 필요"
      ]
    },
    {
      "cell_type": "markdown",
      "metadata": {
        "id": "Sem87gmsXux8"
      },
      "source": [
        "### 에러 예제\n",
        "\n",
        "* ZeroDivisionError"
      ]
    },
    {
      "cell_type": "code",
      "metadata": {
        "id": "nea-tg6gNSQB"
      },
      "source": [],
      "execution_count": null,
      "outputs": []
    },
    {
      "cell_type": "markdown",
      "metadata": {
        "id": "5Ape-cL37GWg"
      },
      "source": [
        "* NameError"
      ]
    },
    {
      "cell_type": "code",
      "metadata": {
        "id": "rX3x3eE_6zcJ"
      },
      "source": [],
      "execution_count": null,
      "outputs": []
    },
    {
      "cell_type": "markdown",
      "metadata": {
        "id": "Ij6ieZ6v7JXo"
      },
      "source": [
        "* TypeError"
      ]
    },
    {
      "cell_type": "code",
      "metadata": {
        "id": "EwuWO4tP68OT"
      },
      "source": [],
      "execution_count": null,
      "outputs": []
    },
    {
      "cell_type": "markdown",
      "metadata": {
        "id": "TSahjFWRNFSY"
      },
      "source": [
        "* ValueError"
      ]
    },
    {
      "cell_type": "code",
      "metadata": {
        "id": "QkZGJiqcNElu"
      },
      "source": [],
      "execution_count": null,
      "outputs": []
    },
    {
      "cell_type": "markdown",
      "metadata": {
        "id": "6gu37rq_AciU"
      },
      "source": [
        "### 예외 처리(Exception Handling)"
      ]
    },
    {
      "cell_type": "markdown",
      "metadata": {
        "id": "FYZUyQqgK5Z_"
      },
      "source": [
        "#### try, except 문\n",
        "\n",
        "* try 문을 통해 예외 발생 가능한 코드에 정의\n",
        "* except 문을 이용해 예외 처리 방법을 정의"
      ]
    },
    {
      "cell_type": "code",
      "metadata": {
        "id": "wfONldWmjWjI"
      },
      "source": [],
      "execution_count": null,
      "outputs": []
    },
    {
      "cell_type": "markdown",
      "metadata": {
        "id": "wCZtKuol63ET"
      },
      "source": [
        "#### 에러 분류에 따른 except 문\n",
        "\n",
        "* `ZeroDivisionError`에 대한 except 처리"
      ]
    },
    {
      "cell_type": "code",
      "metadata": {
        "id": "iI9q62ukjhLI"
      },
      "source": [],
      "execution_count": null,
      "outputs": []
    },
    {
      "cell_type": "markdown",
      "metadata": {
        "id": "5xb7qltz7EkZ"
      },
      "source": [
        "#### 에러 메시지가 포함된 except 문\n",
        "\n",
        "* `ZeroDivisionError`에 포함된 에러 메시지 `e`를 출력"
      ]
    },
    {
      "cell_type": "code",
      "metadata": {
        "id": "Hd8posBzjmQa"
      },
      "source": [],
      "execution_count": null,
      "outputs": []
    },
    {
      "cell_type": "markdown",
      "metadata": {
        "id": "JAasRBB0-BLK"
      },
      "source": [
        "#### 여러 에러 분류가 포함된 except 문"
      ]
    },
    {
      "cell_type": "code",
      "metadata": {
        "id": "IHqjg-lf6-SG"
      },
      "source": [],
      "execution_count": null,
      "outputs": []
    },
    {
      "cell_type": "markdown",
      "metadata": {
        "id": "1yvDiPGN9ko0"
      },
      "source": [
        "### 에러 발생"
      ]
    },
    {
      "cell_type": "markdown",
      "metadata": {
        "id": "UZVye8Ot9r3u"
      },
      "source": [
        "#### raise 문\n",
        "\n",
        "* 직접적으로 에러를 발생시킬 수 있음\n",
        "* 에러의 종류와 에러 상황을 정의하고 발생"
      ]
    },
    {
      "cell_type": "code",
      "metadata": {
        "id": "YhXCjSq-D0oX"
      },
      "source": [],
      "execution_count": null,
      "outputs": []
    },
    {
      "cell_type": "code",
      "metadata": {
        "id": "seVpG5qoEDUL"
      },
      "source": [],
      "execution_count": null,
      "outputs": []
    },
    {
      "cell_type": "code",
      "metadata": {
        "id": "Sg6jO8soEFRQ"
      },
      "source": [],
      "execution_count": null,
      "outputs": []
    },
    {
      "cell_type": "code",
      "metadata": {
        "id": "44cMcYh6EGmQ"
      },
      "source": [],
      "execution_count": null,
      "outputs": []
    },
    {
      "cell_type": "markdown",
      "metadata": {
        "id": "1tlN-WGZ9the"
      },
      "source": [
        "#### assert 문\n",
        "\n",
        "* raise 문과 달리 주로 검증을 위한 목적으로 작성\n",
        "* 상태를 검증하는 목적으로 작성되며 검증식이 포함됨\n",
        "* 검증식이 `False`일 경우 `AssertionErro` 발생"
      ]
    },
    {
      "cell_type": "code",
      "metadata": {
        "id": "RDT6GAzpMtFu"
      },
      "source": [],
      "execution_count": null,
      "outputs": []
    },
    {
      "cell_type": "code",
      "metadata": {
        "id": "Wi5Dhu2yFzfW"
      },
      "source": [],
      "execution_count": null,
      "outputs": []
    },
    {
      "cell_type": "code",
      "metadata": {
        "id": "__lmGJw2G323"
      },
      "source": [],
      "execution_count": null,
      "outputs": []
    },
    {
      "cell_type": "code",
      "metadata": {
        "id": "vmNwfDLcF0dm"
      },
      "source": [],
      "execution_count": null,
      "outputs": []
    },
    {
      "cell_type": "code",
      "metadata": {
        "id": "7ebqv6zTF3dv"
      },
      "source": [],
      "execution_count": null,
      "outputs": []
    }
  ]
}