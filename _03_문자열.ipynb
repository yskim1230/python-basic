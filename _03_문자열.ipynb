{
  "nbformat": 4,
  "nbformat_minor": 0,
  "metadata": {
    "colab": {
      "provenance": [],
      "toc_visible": true,
      "include_colab_link": true
    },
    "kernelspec": {
      "name": "python3",
      "display_name": "Python 3"
    }
  },
  "cells": [
    {
      "cell_type": "markdown",
      "metadata": {
        "id": "view-in-github",
        "colab_type": "text"
      },
      "source": [
        "<a href=\"https://colab.research.google.com/github/yskim1230/python-basic/blob/main/_03_%EB%AC%B8%EC%9E%90%EC%97%B4.ipynb\" target=\"_parent\"><img src=\"https://colab.research.google.com/assets/colab-badge.svg\" alt=\"Open In Colab\"/></a>"
      ]
    },
    {
      "cell_type": "markdown",
      "metadata": {
        "id": "bg5ZXMV2sn1M"
      },
      "source": [
        "# 문자열(String)"
      ]
    },
    {
      "cell_type": "markdown",
      "metadata": {
        "id": "Lj_iZPKnCRP0"
      },
      "source": [
        "\n",
        "\n",
        "---\n",
        "\n"
      ]
    },
    {
      "cell_type": "markdown",
      "metadata": {
        "id": "E3Cd7WwAxDxm"
      },
      "source": [
        "## 문자열 정의\n"
      ]
    },
    {
      "cell_type": "code",
      "metadata": {
        "id": "YLGtw6y5iHPK",
        "outputId": "65d91126-3301-4717-b1e8-56480f6a4896",
        "colab": {
          "base_uri": "https://localhost:8080/"
        }
      },
      "source": [
        "s = \"String\"\n",
        "print(s)\n",
        "print(s[0])\n",
        "print(s[1])\n",
        "print(s[2])\n",
        "print(s[3])\n",
        "print(s[4])\n",
        "print(s[5])"
      ],
      "execution_count": 1,
      "outputs": [
        {
          "output_type": "stream",
          "name": "stdout",
          "text": [
            "String\n",
            "S\n",
            "t\n",
            "r\n",
            "i\n",
            "n\n",
            "g\n"
          ]
        }
      ]
    },
    {
      "cell_type": "code",
      "metadata": {
        "id": "1t41e-64iKjc",
        "outputId": "7bf8c206-8565-458e-ec0e-b667aae6d218",
        "colab": {
          "base_uri": "https://localhost:8080/"
        }
      },
      "source": [
        "s = '문자열'\n",
        "print(s)\n",
        "print(s[0])\n",
        "print(s[1])\n",
        "print(s[2])"
      ],
      "execution_count": 2,
      "outputs": [
        {
          "output_type": "stream",
          "name": "stdout",
          "text": [
            "문자열\n",
            "문\n",
            "자\n",
            "열\n"
          ]
        }
      ]
    },
    {
      "cell_type": "markdown",
      "metadata": {
        "id": "aKsMBDZohTu4"
      },
      "source": [
        "## 문자열 생성\n",
        "\n",
        "* 파이썬에서 문자열은 작은따옴표(') 또는 큰 따옴표(\")로 표현\n"
      ]
    },
    {
      "cell_type": "code",
      "metadata": {
        "id": "qLh1E-1_hxR_",
        "outputId": "33910ad9-8e76-48b8-fa21-45986335137f",
        "colab": {
          "base_uri": "https://localhost:8080/"
        }
      },
      "source": [
        "print('hello')\n",
        "print(\"아아아아아\")\n",
        "print('''가나다라''')\n",
        "print(\"\"\"가다나ㅏ라ㅏ\"\"\")"
      ],
      "execution_count": 4,
      "outputs": [
        {
          "output_type": "stream",
          "name": "stdout",
          "text": [
            "hello\n",
            "아아아아아\n",
            "가나다라\n",
            "가다나ㅏ라ㅏ\n"
          ]
        }
      ]
    },
    {
      "cell_type": "markdown",
      "metadata": {
        "id": "z250OOXBirgb"
      },
      "source": [
        "### 따옴표가 있는 문자열 생성\n",
        "\n",
        "* 문자열에 작은따옴표가 있을 경우, 큰따옴표로 둘러싸서 표현\n",
        "* 문자열에 큰따옴표가 있을 경우, 작은따옴표로 둘러싸서 표현\n",
        "* 이스케이프 코드 \\를 이용하여 작은따옴표(‘)와 큰따옴표(“)를 문자열에 포함"
      ]
    },
    {
      "cell_type": "code",
      "metadata": {
        "id": "JYNKaVT0i0aF",
        "outputId": "03956bc6-9820-4837-b772-368f6e3dc672",
        "colab": {
          "base_uri": "https://localhost:8080/"
        }
      },
      "source": [
        "string = \"python's built-in string classes\"\n",
        "print(string)\n",
        "string = '모두가 \"파이선은 매우쉽다\" 라고 말한다.'\n",
        "print(string)\n",
        "\n",
        "\n",
        "string = 'python\\'s built-in string classes'\n",
        "print(string)\n",
        "string = \"모두가 \\\"파이선은 매우쉽다\\\" 라고 말한다.\"\n",
        "print(string)\n"
      ],
      "execution_count": 8,
      "outputs": [
        {
          "output_type": "stream",
          "name": "stdout",
          "text": [
            "python's built-in string classes\n",
            "모두가 \"파이선은 매우쉽다\" 라고 말한다.\n",
            "python's built-in string classes\n",
            "모두가 \"파이선은 매우쉽다\" 라고 말한다.\n"
          ]
        }
      ]
    },
    {
      "cell_type": "markdown",
      "metadata": {
        "id": "rM5rFj7nnx6Z"
      },
      "source": [
        "### 여러 줄이 있는 문자열 생성\n",
        "\n",
        "* 이스케이프 문자(\\\\n)를 이용하여 여러 줄이 있는 문자열 생성 가능"
      ]
    },
    {
      "cell_type": "code",
      "metadata": {
        "id": "XWqwisIai6ot",
        "outputId": "86022867-213c-41bc-f501-635f6ac12b06",
        "colab": {
          "base_uri": "https://localhost:8080/"
        }
      },
      "source": [
        "text = \"동해물과 백두산이 마르고 닳도록\\n하느님이 보우하사 우리나라 만세\\n무궁화 삼천리 화려강산\"\n",
        "print(text)"
      ],
      "execution_count": 10,
      "outputs": [
        {
          "output_type": "stream",
          "name": "stdout",
          "text": [
            "동해물과 백두산이 마르고 닳도록\n",
            "하느님이 보우하사 우리나라 만세\n",
            "무궁화 삼천리 화려강산\n"
          ]
        }
      ]
    },
    {
      "cell_type": "markdown",
      "metadata": {
        "id": "IKC5jvDpoGAT"
      },
      "source": [
        "* 작은 따옴표 3개 또는 큰 따옴표 3개를 이용하여 여러 줄이 있는 문자열 생성"
      ]
    },
    {
      "cell_type": "code",
      "metadata": {
        "id": "pgxgO7QwoDH8",
        "outputId": "17c3b320-be1c-4396-e4dc-821474ad7434",
        "colab": {
          "base_uri": "https://localhost:8080/"
        }
      },
      "source": [
        "text = \"\"\"동해물과 백두산이 마르고 닳도록\n",
        "하느님이 보우하사 우리나라 만세\n",
        "무궁화 \"\"\"\n",
        "print(text)"
      ],
      "execution_count": 11,
      "outputs": [
        {
          "output_type": "stream",
          "name": "stdout",
          "text": [
            "동해물과 백두산이 마르고 닳도록\n",
            "하느님이 보우하사 우리나라 만세\n",
            "무궁화 \n"
          ]
        }
      ]
    },
    {
      "cell_type": "markdown",
      "metadata": {
        "id": "PzXHy8FxoW5l"
      },
      "source": [
        "\n",
        "\n",
        "---\n",
        "\n"
      ]
    },
    {
      "cell_type": "markdown",
      "metadata": {
        "id": "d38eO6_roX5E"
      },
      "source": [
        "## 문자열 연산(String Operators)"
      ]
    },
    {
      "cell_type": "markdown",
      "metadata": {
        "id": "SP7ztoZhXRV4"
      },
      "source": [
        "### 문자열 더하기\n",
        "\n",
        "+ 연산자를 사용하여 문자열 연결\n"
      ]
    },
    {
      "cell_type": "code",
      "metadata": {
        "id": "ZuecZ1D2oPnq",
        "outputId": "4fcd3cdd-d5a7-4eaf-9ed0-65751b983a9c",
        "colab": {
          "base_uri": "https://localhost:8080/"
        }
      },
      "source": [
        "s1 = \"동해물과\"\n",
        "s2 = \"백두산이\"\n",
        "print(s1 + s2)"
      ],
      "execution_count": 12,
      "outputs": [
        {
          "output_type": "stream",
          "name": "stdout",
          "text": [
            "동해물과백두산이\n"
          ]
        }
      ]
    },
    {
      "cell_type": "markdown",
      "metadata": {
        "id": "0CPt-XMbvjWx"
      },
      "source": [
        "### 문자열 곱하기\n",
        "\n",
        "* \\* 연산자를 사용하여 문자열 반복\n"
      ]
    },
    {
      "cell_type": "code",
      "metadata": {
        "id": "tmpi5CMDolHd",
        "outputId": "b980be3a-d62c-4079-f2db-6c07b10fcfd5",
        "colab": {
          "base_uri": "https://localhost:8080/"
        }
      },
      "source": [
        "s = \"string\"\n",
        "print(s*3)\n"
      ],
      "execution_count": 13,
      "outputs": [
        {
          "output_type": "stream",
          "name": "stdout",
          "text": [
            "stringstringstring\n"
          ]
        }
      ]
    },
    {
      "cell_type": "markdown",
      "metadata": {
        "id": "pjKywfKlvvp5"
      },
      "source": [
        "### 문자열 길이(length)\n",
        "\n",
        "* 문자열 길이를 구하는 `len()` 함수"
      ]
    },
    {
      "cell_type": "code",
      "metadata": {
        "id": "vKff0qQdvtqh",
        "outputId": "e9ab2562-de7a-4c7f-99b9-cb10a2f3c64d",
        "colab": {
          "base_uri": "https://localhost:8080/"
        }
      },
      "source": [
        "s = \"string\"\n",
        "print(len(s))\n",
        "print(len(s*3))"
      ],
      "execution_count": 15,
      "outputs": [
        {
          "output_type": "stream",
          "name": "stdout",
          "text": [
            "6\n",
            "18\n"
          ]
        }
      ]
    },
    {
      "cell_type": "markdown",
      "metadata": {
        "id": "QaeVCcgnv_lD"
      },
      "source": [
        "### 문자열 인덱싱(indexing)\n",
        "\n",
        "* 문자열은 리스트처럼 문자 하나하나가 상대적인 주소(offset)를 가짐\n",
        "* 이 주소를 사용해 할당된 값을 가져오는 인덱싱을 사용"
      ]
    },
    {
      "cell_type": "code",
      "metadata": {
        "id": "yuYQOYe3v5iF",
        "outputId": "025f5274-dd57-490c-aea2-878a56c5bdf2",
        "colab": {
          "base_uri": "https://localhost:8080/"
        }
      },
      "source": [
        "s = \"String\"\n",
        "print(s)\n",
        "print(s[-6])\n",
        "print(s[-5])\n",
        "print(s[-4])\n",
        "print(s[-3])\n",
        "print(s[-2])\n",
        "print(s[-1])\n"
      ],
      "execution_count": 16,
      "outputs": [
        {
          "output_type": "stream",
          "name": "stdout",
          "text": [
            "String\n",
            "S\n",
            "t\n",
            "r\n",
            "i\n",
            "n\n",
            "g\n"
          ]
        }
      ]
    },
    {
      "cell_type": "markdown",
      "metadata": {
        "id": "zcTUuycAw7np"
      },
      "source": [
        "### 문자열 슬라이싱(slicing)\n",
        "\n",
        "* 문자열의 주소를 이용하여 문자열을 조각(부분)을 추출"
      ]
    },
    {
      "cell_type": "code",
      "metadata": {
        "id": "JJUbjwcgw6PG",
        "outputId": "d35a2ec2-c1a1-4170-b78e-61b395c6be8c",
        "colab": {
          "base_uri": "https://localhost:8080/"
        }
      },
      "source": [
        "s = 'yskim - yskim python lab'\n",
        "print(s)\n",
        "print(s[0:7])\n",
        "print(s[:7])\n",
        "print(s[5:7])\n",
        "print(s[5:])\n",
        "print(s[-4:])"
      ],
      "execution_count": 29,
      "outputs": [
        {
          "output_type": "stream",
          "name": "stdout",
          "text": [
            "yskim - yskim python lab\n",
            "yskim -\n",
            "yskim -\n",
            " -\n",
            " - yskim python lab\n",
            " lab\n",
            " lab\n"
          ]
        }
      ]
    },
    {
      "cell_type": "markdown",
      "metadata": {
        "id": "-drrAXi3xY3y"
      },
      "source": [
        "\n",
        "\n",
        "---\n",
        "\n"
      ]
    },
    {
      "cell_type": "markdown",
      "metadata": {
        "id": "ZYyzer0TxVll"
      },
      "source": [
        "## 문자열 메소드(String Methods)\n"
      ]
    },
    {
      "cell_type": "markdown",
      "metadata": {
        "id": "5VO3DGMAyxHc"
      },
      "source": [
        "### capitalize() / casefold()\n",
        "\n",
        "* 문자열 \"string\"에 대해 `capitalize()`를 실행하면, 첫 문자가 대문자인 \"String\" 문자열로 변환\n",
        "* 문자열 \"String\"에 대해 `casefold()`를 실행하면, 모든 문자가 소문자인 \"string\" 문자열로 변환"
      ]
    },
    {
      "cell_type": "code",
      "metadata": {
        "id": "cXTaqtYbxNb3",
        "outputId": "89f605e9-b3d3-4c99-e9c8-f9c311d1d501",
        "colab": {
          "base_uri": "https://localhost:8080/"
        }
      },
      "source": [
        "s = \"string\"\n",
        "s = s.capitalize()\n",
        "print(s)\n",
        "\n",
        "s = s.casefold()\n",
        "print(s)"
      ],
      "execution_count": 31,
      "outputs": [
        {
          "output_type": "stream",
          "name": "stdout",
          "text": [
            "String\n",
            "string\n"
          ]
        }
      ]
    },
    {
      "cell_type": "markdown",
      "metadata": {
        "id": "XE4t6o1f0haA"
      },
      "source": [
        "### count()\n",
        "\n",
        "* 문자열 \"string string\"에 포함된 문자 's'의 갯수를 반환하도록 `count()`를 실행\n",
        "* 문자 's'가 총 2개 존재하므로 2를 반환\n",
        "* 부분 문자열 \"str\"이 몇개인지 반환하는 것도 가능하고, 부분 문자열 \"str\"이 총 2개 존재하므로 2를 반환"
      ]
    },
    {
      "cell_type": "code",
      "metadata": {
        "id": "4o34mT_N0UDY",
        "outputId": "d394b90a-2d54-49ca-9b83-f52c9aba3403",
        "colab": {
          "base_uri": "https://localhost:8080/"
        }
      },
      "source": [
        "s= \"string string\"\n",
        "print(s)\n",
        "print(s.count('s'))\n",
        "print(s.count(\"str\"))"
      ],
      "execution_count": 33,
      "outputs": [
        {
          "output_type": "stream",
          "name": "stdout",
          "text": [
            "string string\n",
            "2\n",
            "2\n"
          ]
        }
      ]
    },
    {
      "cell_type": "markdown",
      "metadata": {
        "id": "8k0mftqo0yVe"
      },
      "source": [
        "### find() / rfind()\n",
        "\n",
        "* 문자열 \"string string\"에서 문자 's'의 해당 위치를 `find()`를 통해 반환\n",
        "* 문자열 \"string string\"에서 부분 문자열 \"ing\"의 해당 위치를 `find()`를 통해 반환\n",
        "* 문자열 \"string string\"에서 문자 's'를 해당 위치를 `rfind()`를 통해 오른쪽부터 탐색하여 가장 큰 인덱스를 반환\n",
        "* 문자열 \"string string\"에서 부분 문자열 \"ring\"를 해당 위치를 `rfind()`를 통해 오른쪽부터 탐색하여 가장 큰 인덱스를 반환"
      ]
    },
    {
      "cell_type": "code",
      "metadata": {
        "id": "1TDT5Akz0nQn",
        "outputId": "c8990633-e0c3-409c-cd5e-4e78d0cee970",
        "colab": {
          "base_uri": "https://localhost:8080/"
        }
      },
      "source": [
        "s = \"string string\"\n",
        "print(s.find('s'))\n",
        "print(s.find(\"ing\"))\n",
        "print(s.rfind(\"s\"))\n",
        "print(s.rfind(\"ring\"))"
      ],
      "execution_count": 38,
      "outputs": [
        {
          "output_type": "stream",
          "name": "stdout",
          "text": [
            "0\n",
            "3\n",
            "7\n",
            "9\n"
          ]
        }
      ]
    },
    {
      "cell_type": "markdown",
      "metadata": {
        "id": "T9p8ylMq1-u7"
      },
      "source": [
        "### index() / rindex()\n",
        "\n",
        "* 문자열 \"string string\"에서 문자 's'의 해당 위치를 `index()`를 통해 반환\n",
        "* 문자열 \"string string\"에서 부분 문자열 \"ing\"의 해당 위치를 `index()`를 통해 반환\n",
        "* 문자열 \"string string\"에서 문자 's'를 해당 위치를 `rindex()`를 통해 오른쪽부터 탐색하여 가장 큰 인덱스를 반환\n",
        "* 문자열 \"string string\"에서 부분 문자열 \"ring\"를 해당 위치를 `rindex()`를 통해 오른쪽부터 탐색하여 가장 큰 인덱스를 반환\n",
        "* 문자열 \"string string\"에서 문자 'z'를 해당 위치를 `rindex()` 함수를 통해 오른쪽부터 탐색하지만 찾을 수 없어서 'ValueError' 발생"
      ]
    },
    {
      "cell_type": "code",
      "metadata": {
        "id": "tzp-p20519Bv",
        "outputId": "a6a69dbd-394d-42e6-a7f7-f58dc496a6b8",
        "colab": {
          "base_uri": "https://localhost:8080/"
        }
      },
      "source": [
        "s = \"string string\"\n",
        "print(s.index('s'))\n",
        "print(s.index(\"ing\"))\n",
        "print(s.rindex(\"s\"))\n",
        "print(s.rindex(\"ring\"))\n",
        "#print(s.rindex(\"z\"))\n"
      ],
      "execution_count": 40,
      "outputs": [
        {
          "output_type": "stream",
          "name": "stdout",
          "text": [
            "0\n",
            "3\n",
            "7\n",
            "9\n"
          ]
        }
      ]
    },
    {
      "cell_type": "markdown",
      "metadata": {
        "id": "prav01jjje_G"
      },
      "source": [
        "### isalnum()\n",
        "\n",
        "* `isalnum()`은 문자열에 알파벳이나 숫자가 1개 이상 있으면 True 반환\n",
        "* 문자열 \"string\"은 알파벳으로 구성 되었으므로 True 반환\n",
        "* 문자열 \"한글\"은 알파벳으로 구성 되어있으므로 True 반환\n",
        "* 문자열 \"!@#\"은 특수기호로 구성 되어있으므로 False 반환\n",
        "* 문자열 \"123\"은 숫자들로 구성 되어있으므로 True 반환"
      ]
    },
    {
      "cell_type": "code",
      "metadata": {
        "id": "6H6gBF44DIke",
        "outputId": "7066da6c-37fa-4632-bea7-7bb446344e60",
        "colab": {
          "base_uri": "https://localhost:8080/"
        }
      },
      "source": [
        "print(\"string\".isalnum())\n",
        "print(\"한글\".isalnum())\n",
        "print(\"!@#\".isalnum())\n",
        "print(\"123\".isalnum())"
      ],
      "execution_count": 43,
      "outputs": [
        {
          "output_type": "stream",
          "name": "stdout",
          "text": [
            "True\n",
            "True\n",
            "False\n",
            "True\n"
          ]
        }
      ]
    },
    {
      "cell_type": "markdown",
      "metadata": {
        "id": "eHIt6rNFYCGE"
      },
      "source": [
        "### isalpha()\n",
        "\n",
        "* `isalpha()`는 문자열에 알파벳이 1개 이상 있으면 True 반환\n",
        "* 문자열 \"string\"은 알파벳으로 구성 되었으므로 True 반환\n",
        "* 문자열 \"한글\"은 알파벳으로 구성 되어있으므로 True 반환\n",
        "* 문자열 \"!@#\"은 특수기호로 구성 되어있으므로 False 반환\n",
        "* 문자열 \"123\"은 숫자들로 구성 되어있으므로 Flase 반환"
      ]
    },
    {
      "cell_type": "code",
      "metadata": {
        "id": "_dFo8ynlmd_B",
        "outputId": "c07bbdf4-476c-40c8-9886-c087d819bc1b",
        "colab": {
          "base_uri": "https://localhost:8080/"
        }
      },
      "source": [
        "print(\"string\".isalpha())\n",
        "print(\"한글\".isalpha())\n",
        "print(\"!@#\".isalpha())\n",
        "print(\"123\".isalpha())"
      ],
      "execution_count": 44,
      "outputs": [
        {
          "output_type": "stream",
          "name": "stdout",
          "text": [
            "True\n",
            "True\n",
            "False\n",
            "False\n"
          ]
        }
      ]
    },
    {
      "cell_type": "markdown",
      "metadata": {
        "id": "_WGNBgfilCZg"
      },
      "source": [
        "### isdecimal()\n",
        "\n",
        "* `isdecimal()`는 문자열의 모든 문자가 10진수 문자이면 True 반환\n",
        "* 문자열 \"123\"은 모두 10진수 문자열이므로 True 반환\n",
        "* 문자열 \"1.23\"은 실수형 문자열이므로 False 반환"
      ]
    },
    {
      "cell_type": "code",
      "metadata": {
        "id": "E2kVKYNHjtlN",
        "outputId": "3113654f-2684-4c1d-d92f-499317aa199a",
        "colab": {
          "base_uri": "https://localhost:8080/"
        }
      },
      "source": [
        "print(\"123\".isdecimal())\n",
        "print(\"1.23\".isdecimal())\n"
      ],
      "execution_count": 45,
      "outputs": [
        {
          "output_type": "stream",
          "name": "stdout",
          "text": [
            "True\n",
            "False\n"
          ]
        }
      ]
    },
    {
      "cell_type": "markdown",
      "metadata": {
        "id": "J0pJ-8T_Yhlx"
      },
      "source": [
        "### isdigit()\n",
        "\n",
        "* `isdigit()`는 문자열의 모든 문자가 숫자일 때 True 반환\n",
        "* 문자열 \"123\"은 모든 문자가 숫자에 해당하므로 True 반환\n",
        "* 문자열 \"1.23\"은 문자 중 숫자에 해당안되는 . 이 존재하여 False"
      ]
    },
    {
      "cell_type": "code",
      "metadata": {
        "id": "oOsCWfMhmjHo",
        "outputId": "398f9098-4c03-44e3-92ff-fadf249d5d5f",
        "colab": {
          "base_uri": "https://localhost:8080/"
        }
      },
      "source": [
        "print(\"123\".isdigit())\n",
        "print(\"1.23\".isdigit())"
      ],
      "execution_count": 46,
      "outputs": [
        {
          "output_type": "stream",
          "name": "stdout",
          "text": [
            "True\n",
            "False\n"
          ]
        }
      ]
    },
    {
      "cell_type": "markdown",
      "metadata": {
        "id": "2jPib-Z8ZAlj"
      },
      "source": [
        "### isnumeric()\n",
        "\n",
        "* `isnumeric()`는 문자열의 모든 문자가 수치형일 때 True 반환\n",
        "* 문자열 \"123\"은 모든 문자가 숫자에 해당하므로 True 반환\n",
        "* 문자열 \"1.23\"은 문자 중 수치형에 해당안되는 . 이 존재하여 False"
      ]
    },
    {
      "cell_type": "code",
      "metadata": {
        "id": "J5EsHyjfpidQ",
        "outputId": "34a4954f-e184-4998-e5d0-567412a77a5a",
        "colab": {
          "base_uri": "https://localhost:8080/"
        }
      },
      "source": [
        "print(\"123\".isnumeric())\n",
        "print(\"1.23\".isnumeric())"
      ],
      "execution_count": 47,
      "outputs": [
        {
          "output_type": "stream",
          "name": "stdout",
          "text": [
            "True\n",
            "False\n"
          ]
        }
      ]
    },
    {
      "cell_type": "markdown",
      "metadata": {
        "id": "krM9QrrEp5TB"
      },
      "source": [
        "### isidentifier()\n",
        "\n",
        "* `isidentifier()`는 문자열이 파이썬에서 사용하는 식별자인 경우 True 반환\n",
        "* 문자열 \"123\"은 식별자로 사용되지 않는 문자열이라서 False 반환\n",
        "* 문자열 \"True\"는 식별자로 사용되기 때문에 True 반환\n",
        "* 문자열 \"print\"는 식별자로 사용되기 때문에 True 반환"
      ]
    },
    {
      "cell_type": "code",
      "metadata": {
        "id": "ir5WknFUpO7r",
        "outputId": "d9edd54e-9bdf-4283-e2eb-8bfe58374ed2",
        "colab": {
          "base_uri": "https://localhost:8080/"
        }
      },
      "source": [
        "print(\"123\".isidentifier())\n",
        "print(\"True\".isidentifier())\n",
        "print(\"print\".isidentifier())"
      ],
      "execution_count": 48,
      "outputs": [
        {
          "output_type": "stream",
          "name": "stdout",
          "text": [
            "False\n",
            "True\n",
            "True\n"
          ]
        }
      ]
    },
    {
      "cell_type": "markdown",
      "metadata": {
        "id": "jHm6aRyAlypa"
      },
      "source": [
        "### isspace()\n",
        "\n",
        "* 문자열 \" \"은 문자열 내에 공백 문자가 있어서 True 반환\n",
        "* 문자열 \" 1 \"은 문자열 내에 공백 아닌 문자가 있어서 False 반환"
      ]
    },
    {
      "cell_type": "code",
      "metadata": {
        "id": "x0Nmi2NtqQpI",
        "outputId": "fe49ed24-b64e-4bbb-c79a-a2a820b2468a",
        "colab": {
          "base_uri": "https://localhost:8080/"
        }
      },
      "source": [
        "print(\" \".isspace())\n",
        "print(\" 1 \".isspace())"
      ],
      "execution_count": 49,
      "outputs": [
        {
          "output_type": "stream",
          "name": "stdout",
          "text": [
            "True\n",
            "False\n"
          ]
        }
      ]
    },
    {
      "cell_type": "markdown",
      "metadata": {
        "id": "SG3Odc9fIHpT"
      },
      "source": [
        "### istitle()\n",
        "\n",
        "* 문자열 \"String\"은 문자열 내에 제목과 같이 첫 글자가 대문자여서 True 반환\n",
        "* 문자열 \"STRING\"은 모든 문자가 대문자이기 때문에 False 반환"
      ]
    },
    {
      "cell_type": "code",
      "metadata": {
        "id": "c7eht5HErgrr",
        "outputId": "1c6dec45-54ee-48f7-d409-4597d772db8a",
        "colab": {
          "base_uri": "https://localhost:8080/"
        }
      },
      "source": [
        "print(\"String\".istitle())\n",
        "print(\"STIRING\".istitle())"
      ],
      "execution_count": 50,
      "outputs": [
        {
          "output_type": "stream",
          "name": "stdout",
          "text": [
            "True\n",
            "False\n"
          ]
        }
      ]
    },
    {
      "cell_type": "markdown",
      "metadata": {
        "id": "ctZKMIrHI8-A"
      },
      "source": [
        "### islower()\n",
        "\n",
        "* 문자열 \"string\"은 모든 문자가 소문자여서 True 반환\n",
        "* 문자열 \"String\"은 첫 문자가 대문자여서 False 반환"
      ]
    },
    {
      "cell_type": "code",
      "metadata": {
        "id": "xznSyZT9lzp5",
        "outputId": "4dbfb865-a7fc-472c-8fdd-5dc83426cf21",
        "colab": {
          "base_uri": "https://localhost:8080/"
        }
      },
      "source": [
        "print(\"string\".islower())\n",
        "print(\"String\".islower())"
      ],
      "execution_count": 51,
      "outputs": [
        {
          "output_type": "stream",
          "name": "stdout",
          "text": [
            "True\n",
            "False\n"
          ]
        }
      ]
    },
    {
      "cell_type": "markdown",
      "metadata": {
        "id": "KVnECEUXI_MN"
      },
      "source": [
        "### isupper() 함수\n",
        "\n",
        "* 문자열 \"STRING\"은 모든 문자가 대문자여서 True 반환\n",
        "* 문자열 \"String\"은 첫 문자만 대문자여서 False 반환"
      ]
    },
    {
      "cell_type": "code",
      "metadata": {
        "id": "ZAmXy2lCqIbi",
        "outputId": "32f2c228-6c8c-45b5-aff0-268aeb65db55",
        "colab": {
          "base_uri": "https://localhost:8080/"
        }
      },
      "source": [
        "print(\"STIRING\".isupper())\n",
        "print(\"sTIRING\".isupper())"
      ],
      "execution_count": 52,
      "outputs": [
        {
          "output_type": "stream",
          "name": "stdout",
          "text": [
            "True\n",
            "False\n"
          ]
        }
      ]
    },
    {
      "cell_type": "markdown",
      "metadata": {
        "id": "mGdbqGsSr8Ee"
      },
      "source": [
        "### join()\n",
        "\n",
        "* 문자열 \"String\"에 대해서 `join()`으로 공백 문자 ' '를 문자 사이마다 추가한 문자열 \"S t r i n g\"을 반환\n",
        "* 문자열 \"String\"에 대해서 `join()` 으로 공백 문자 '_'를 문자 사이마다 추가한 문자열 \"S_t_r_i_n_g\"을 반환\n",
        "* 문자열 \"String\"에 대해서 `join()` 으로 공백 문자 '|'를 문자 사이마다 추가한 문자열 \"S|t|r|i|n|g\"을 반환"
      ]
    },
    {
      "cell_type": "code",
      "metadata": {
        "id": "A8tTe2l3rwLw",
        "outputId": "f402e417-8f15-4fda-9242-bb53777b27a5",
        "colab": {
          "base_uri": "https://localhost:8080/"
        }
      },
      "source": [
        "s = \"String\"\n",
        "print(' '.join(s))\n",
        "print('_'.join(s))\n",
        "print('|'.join(s))\n"
      ],
      "execution_count": 54,
      "outputs": [
        {
          "output_type": "stream",
          "name": "stdout",
          "text": [
            "S t r i n g\n",
            "S_t_r_i_n_g\n",
            "S|t|r|i|n|g\n"
          ]
        }
      ]
    },
    {
      "cell_type": "markdown",
      "metadata": {
        "id": "zDmq0ExIsdtu"
      },
      "source": [
        "### center() / ljust() / rjust()\n",
        "\n",
        "* 문자열 \"String\"에 대해서 `center()`를 사용하여 너비 10에 해당하는 문자열 길이에 가운데 정렬한 문자열 '  String  '로 변환\n",
        "* 문자열 \"String\"에 대해서 `ljust()`를 사용하여 너비 10에 해당하는 문자열 길이에 왼쪽 정렬한 문자열 'String    '로 변환\n",
        "* 문자열 \"String\"에 대해서 `rjust()`를 사용하여 너비 10에 해당하는 문자열 길이에 오른쪽 정렬한 문자열 '    String'로 변환"
      ]
    },
    {
      "cell_type": "code",
      "metadata": {
        "id": "sFA02kX3sf2q",
        "outputId": "c7cef072-1464-4efe-ccd6-24e86b5354bd",
        "colab": {
          "base_uri": "https://localhost:8080/"
        }
      },
      "source": [
        "print(\"'\" + \"String\".center(10)+ \"'\")\n",
        "print(\"'\" + \"String\".ljust(10)+ \"'\")\n",
        "print(\"'\" + \"String\".rjust(10)+ \"'\")"
      ],
      "execution_count": 56,
      "outputs": [
        {
          "output_type": "stream",
          "name": "stdout",
          "text": [
            "'  String  '\n",
            "'String    '\n",
            "'    String'\n"
          ]
        }
      ]
    },
    {
      "cell_type": "markdown",
      "metadata": {
        "id": "-iP2QrFn0kWZ"
      },
      "source": [
        "### lower() / upper() / title() / swapcase()\n",
        "\n",
        "* 문자열 \"String\"을 `lower()`를 이용하여 모든 문자가 소문자로 변환된 \"string\" 반환\n",
        "* 문자열 \"String\"을 `upper()`를 이용하여 모든 문자가 대문자로 변환된 \"STRING\" 반환\n",
        "* 문자열 \"string\"을 `title()`를 이용하여 첫 문자가 대문자로 변환된 \"String\" 반환\n",
        "* 문자열 \"String\"을 `swapcase()`를 이용하여 대문자는 소문자로 변환되고 소문자는 대문자로 변환된 \"sTRING\" 반환\n"
      ]
    },
    {
      "cell_type": "code",
      "metadata": {
        "id": "K8JmvhjC0j-e",
        "outputId": "9e6e3b29-2fbb-4a57-d209-3dda93baeeee",
        "colab": {
          "base_uri": "https://localhost:8080/"
        }
      },
      "source": [
        "print(\"String\".lower())\n",
        "print(\"Stirng\".upper())\n",
        "print(\"string\".title())\n",
        "print(\"String\".swapcase())"
      ],
      "execution_count": 57,
      "outputs": [
        {
          "output_type": "stream",
          "name": "stdout",
          "text": [
            "string\n",
            "STIRNG\n",
            "String\n",
            "sTRING\n"
          ]
        }
      ]
    },
    {
      "cell_type": "markdown",
      "metadata": {
        "id": "oyk35mDo1d2M"
      },
      "source": [
        "### strip() / lstrip() / rstrip()\n",
        "\n",
        "* 양쪽 공백이 포함된 문자열 \"  String  \"을 `strip()`를 통해 공백 제거\n",
        "* 양쪽 공백이 포함된 문자열 \"  String  \"을 `lstrip()`를 통해 왼쪽 공백 제거\n",
        "* 양쪽 공백이 포함된 문자열 \"  String  \"을 `rstrip()`를 통해 오른쪽 공백 제거"
      ]
    },
    {
      "cell_type": "code",
      "metadata": {
        "id": "Y8D90szl1YOa",
        "outputId": "11067f19-e3cc-4639-8928-cfb9fab9006b",
        "colab": {
          "base_uri": "https://localhost:8080/"
        }
      },
      "source": [
        "print(\"  String  \".strip())\n",
        "print(\"  String  \".lstrip())\n",
        "print(\"  String  \".rstrip())"
      ],
      "execution_count": 58,
      "outputs": [
        {
          "output_type": "stream",
          "name": "stdout",
          "text": [
            "String\n",
            "String  \n",
            "  String\n"
          ]
        }
      ]
    },
    {
      "cell_type": "markdown",
      "metadata": {
        "id": "zPLZHaXu7OYj"
      },
      "source": [
        "### partition() / rpartition()\n",
        "\n",
        "* 문자열 \"String\"을 `partition()`를 이용하여 문자 't' 기준으로 분할\n",
        "* 문자열 \"String String\"을 `rpartition()`를 이용하여 마지막 문자 'S'를 기준으로 분할"
      ]
    },
    {
      "cell_type": "code",
      "metadata": {
        "id": "fhmrvPHl4I6Q",
        "outputId": "4f901b72-4d16-4695-b423-16b0decf2571",
        "colab": {
          "base_uri": "https://localhost:8080/"
        }
      },
      "source": [
        "print(\"String\".partition('t'))\n",
        "print(\"String String\".rpartition('S'))"
      ],
      "execution_count": 61,
      "outputs": [
        {
          "output_type": "stream",
          "name": "stdout",
          "text": [
            "('S', 't', 'ring')\n",
            "('String ', 'S', 'tring')\n"
          ]
        }
      ]
    },
    {
      "cell_type": "markdown",
      "metadata": {
        "id": "8YF_Rheq7fe6"
      },
      "source": [
        "### replace()\n",
        "\n",
        "* 문자열 \"String\"을 `replace()`를 이용해 문자열 \"Str\"을 문자 'R'로 교체"
      ]
    },
    {
      "cell_type": "code",
      "metadata": {
        "id": "nNuELc1q7Wwf",
        "outputId": "c1df950d-ae52-46d5-a1a3-b3790eac6331",
        "colab": {
          "base_uri": "https://localhost:8080/"
        }
      },
      "source": [
        "print(\"String\".replace(\"Str\",\"R\"))"
      ],
      "execution_count": 63,
      "outputs": [
        {
          "output_type": "stream",
          "name": "stdout",
          "text": [
            "Ring\n"
          ]
        }
      ]
    },
    {
      "cell_type": "markdown",
      "metadata": {
        "id": "rIP8GXbM7p3w"
      },
      "source": [
        "### split() / rsplit() / splitlines()\n",
        "\n",
        "* 문자열 \"1 2 3\"을 `split()`의 기본 구분자를 이용하여 '1', '2', '3' 으로 구분\n",
        "* 문자열 \"1_2_3\"을 `split()`으로 구분자 '_'를 이용하여 '1', '2', '3' 으로 구분\n",
        "* 문자열 \"1 2 3\"을 `rsplit()`으로 구분자 '_'를 이용하여 오른쪽부터 1번만 구분하여 '1_2', '3' 으로 구분\n",
        "* 문자열 \"123\\n123\\n123\\n\"을 `splitlines()` 함수를 이용하여 라인 단위로 구분하여 '123, '123, '123 반환"
      ]
    },
    {
      "cell_type": "code",
      "metadata": {
        "id": "Ns3ZMQJ17mv7",
        "outputId": "5aa4686c-ea69-48e3-a8a2-37a3260d86b3",
        "colab": {
          "base_uri": "https://localhost:8080/"
        }
      },
      "source": [
        "print(\"1 2 3\".split())\n",
        "print(\"1_2_3\".split('_'))\n",
        "print(\"1_2_3\".rsplit('_',1))\n",
        "print(\"123\\n123\\n123\\n\".splitlines())"
      ],
      "execution_count": 68,
      "outputs": [
        {
          "output_type": "stream",
          "name": "stdout",
          "text": [
            "['1', '2', '3']\n",
            "['1', '2', '3']\n",
            "['1_2', '3']\n",
            "['123', '123', '123']\n"
          ]
        }
      ]
    },
    {
      "cell_type": "markdown",
      "metadata": {
        "id": "tx8dAOPm8DTv"
      },
      "source": [
        "### startswith() / endswith()\n",
        "\n",
        "* 문자열 \"String\"에서 시작 문자가 'S'인지 `startswith()`를 통해 확인\n",
        "* 문자열 \"String\"에서 마지막 문자가 'g'인지 `endswith()`를 통해 확인"
      ]
    },
    {
      "cell_type": "code",
      "metadata": {
        "id": "dNB3Da_x7587",
        "outputId": "36ec834c-df19-47b6-c5fb-5e4a1ae2790d",
        "colab": {
          "base_uri": "https://localhost:8080/"
        }
      },
      "source": [
        "print(\"String\".startswith('S'))\n",
        "print(\"String\".endswith('g'))\n",
        "print(\"String\".endswith('gf'))\n",
        "print(\"String\".endswith('ng'))"
      ],
      "execution_count": 70,
      "outputs": [
        {
          "output_type": "stream",
          "name": "stdout",
          "text": [
            "True\n",
            "True\n",
            "False\n",
            "True\n"
          ]
        }
      ]
    },
    {
      "cell_type": "markdown",
      "metadata": {
        "id": "OZatwJSe8Svd"
      },
      "source": [
        "### zfill()\n",
        "\n",
        "* 문자열 \"123\"에서 너비 8만큼으로 늘리고 비어있는 부분에 '0'이 채워진 문자열 \"00000123\" 반환"
      ]
    },
    {
      "cell_type": "code",
      "metadata": {
        "id": "rWqlvXJV8MJF",
        "outputId": "4a6ee2c9-23b9-4178-eecf-bd839d94b219",
        "colab": {
          "base_uri": "https://localhost:8080/"
        }
      },
      "source": [
        "print(\"123\".zfill(8))"
      ],
      "execution_count": 71,
      "outputs": [
        {
          "output_type": "stream",
          "name": "stdout",
          "text": [
            "00000123\n"
          ]
        }
      ]
    },
    {
      "cell_type": "markdown",
      "metadata": {
        "id": "yjsh7OcA8fIu"
      },
      "source": [
        "\n",
        "\n",
        "---\n",
        "\n"
      ]
    },
    {
      "cell_type": "markdown",
      "metadata": {
        "id": "Og91a1bd8gd-"
      },
      "source": [
        "## 문자열 서식(String Format)\n"
      ]
    },
    {
      "cell_type": "markdown",
      "metadata": {
        "id": "U7QLYGjk8qbO"
      },
      "source": [
        "### 문자열 포맷팅(String Formatting)\n",
        "\n",
        "* 문자열 내에서 서식에 맞추어 특정 값을 삽입 또는 변경\n",
        "* 기호 % 뒤에 있는 값이 문자열 내의 서식에 순서대로 매핑"
      ]
    },
    {
      "cell_type": "code",
      "metadata": {
        "id": "_z3A1Rmu8Wex",
        "outputId": "70c4a181-5605-4133-a319-f935f19a6241",
        "colab": {
          "base_uri": "https://localhost:8080/"
        }
      },
      "source": [
        "print(\"나는 사과가 %d개 있다.\" % 2)\n",
        "print(\"나는 사과가 %s개 있다.\" % \"두\")\n",
        "print(\"나는 %s가 %d개 있다.\" % (\"사과\",2))"
      ],
      "execution_count": 78,
      "outputs": [
        {
          "output_type": "stream",
          "name": "stdout",
          "text": [
            "나는 사과가 2개 있다.\n",
            "나는 사과가 두개 있다.\n",
            "나는 사과가 2개 있다.\n"
          ]
        }
      ]
    },
    {
      "cell_type": "markdown",
      "metadata": {
        "id": "PP32b9L3-eVL"
      },
      "source": [
        "### 정렬, 공백, 소수점 포맷\n",
        "\n",
        "* 포맷 문자 앞에 숫자는 길이를 의미\n",
        "* -는 왼쪽 정렬을 의미\n",
        "* 소수점 ‘.’ 뒤에 숫자는 소숫점 이하 개수를 의미"
      ]
    },
    {
      "cell_type": "code",
      "metadata": {
        "id": "uG9qhf2L9K_A",
        "outputId": "4d0088ff-3e1e-4ca0-ae50-1b390469630d",
        "colab": {
          "base_uri": "https://localhost:8080/"
        }
      },
      "source": [
        "print(\"%8s\"  % \"Hello\")\n",
        "print(\"%-8sPython\" % \"Hello\")\n",
        "print(\"%0.2f\"% 3.1425926535)\n",
        "print(\"%8.2f\"% 3.1425926535)\n",
        "print(\"%-8.2f\"% 3.1425926535)"
      ],
      "execution_count": 86,
      "outputs": [
        {
          "output_type": "stream",
          "name": "stdout",
          "text": [
            "   Hello\n",
            "Hello   Python\n",
            "3.14\n",
            "    3.14\n",
            "3.14    \n"
          ]
        }
      ]
    },
    {
      "cell_type": "markdown",
      "metadata": {
        "id": "SrIx3mkM_C8G"
      },
      "source": [
        "### 문자열 format 메소드\n",
        "\n",
        "* 문자열 `format()`의 인덱스를 이용한 고급 포맷팅\n",
        "* 인덱스 번호에 따라 `format()` 함수의 각 값들이 매핑"
      ]
    },
    {
      "cell_type": "code",
      "metadata": {
        "id": "uf469Z6l-6E0",
        "outputId": "7b8d7ed8-0da9-4742-dda0-d826a04b2d09",
        "colab": {
          "base_uri": "https://localhost:8080/"
        }
      },
      "source": [
        "print(\"나는 사과가 {0}개 있다\".format(2))\n",
        "print(\"나는 사과가 {0}개 있다\".format(\"두\"))\n",
        "print(\"나는 {0}가 {1}개 있다\".format(\"사과\",2))"
      ],
      "execution_count": 88,
      "outputs": [
        {
          "output_type": "stream",
          "name": "stdout",
          "text": [
            "나는 사과가 2개 있다\n",
            "나는 사과가 두개 있다\n",
            "나는 사과가 2개 있다\n"
          ]
        }
      ]
    },
    {
      "cell_type": "markdown",
      "metadata": {
        "id": "0pTK7FHW_jIn"
      },
      "source": [
        "* 문자열 `format()` 메소드의 인덱스와 변수 이름을 이용한 포맷팅\n",
        "* 변수 이름 s와 n을 지정하여 \"사과\"와 숫자 2를 매핑"
      ]
    },
    {
      "cell_type": "code",
      "metadata": {
        "id": "Bwx0XnkE_Yvn",
        "outputId": "2ac914c8-b7b8-4ac4-a3b4-92ccced18160",
        "colab": {
          "base_uri": "https://localhost:8080/"
        }
      },
      "source": [
        "print(\"나는 사과가 {n}개 있다\".format(n=2))\n",
        "print(\"나는 {s}가 {n}개 있다\".format(s=\"사과\",n=2))"
      ],
      "execution_count": 90,
      "outputs": [
        {
          "output_type": "stream",
          "name": "stdout",
          "text": [
            "나는 사과가 2개 있다\n",
            "나는 사과가 2개 있다\n"
          ]
        }
      ]
    },
    {
      "cell_type": "markdown",
      "metadata": {
        "id": "0yErNkKPAA2F"
      },
      "source": [
        "* 문자열 `format()` 함수의 정렬, 공백, 소수점\n"
      ]
    },
    {
      "cell_type": "code",
      "metadata": {
        "id": "Nfi9kAeD_z3p",
        "outputId": "e1b2bdaa-d208-4b77-a543-fb9c3bae47d1",
        "colab": {
          "base_uri": "https://localhost:8080/"
        }
      },
      "source": [
        "print(\"{0:8}\".format(\"Hello\"))\n",
        "print(\"{0:<8}\".format(\"Hello\"))\n",
        "print(\"{0:>8}\".format(\"Hello\"))\n",
        "print(\"{0:^8}\".format(\"Hello\"))\n",
        "print(\"{0:~^8}\".format(\"Hello\"))\n",
        "print(\"{0:-^8}\".format(\"Hello\"))\n",
        "print(\"{0:0.4f}\".format(3.141592))\n",
        "print(\"{0:8.4f}\".format(3.141592))\n",
        "print(\"{{중괄호}}\".format())"
      ],
      "execution_count": 100,
      "outputs": [
        {
          "output_type": "stream",
          "name": "stdout",
          "text": [
            "Hello   \n",
            "Hello   \n",
            "   Hello\n",
            " Hello  \n",
            "~Hello~~\n",
            "-Hello--\n",
            "3.1416\n",
            "  3.1416\n",
            "{중괄호}\n"
          ]
        }
      ]
    },
    {
      "cell_type": "markdown",
      "metadata": {
        "id": "1GS_wR86BmtE"
      },
      "source": [
        "### f 문자열 포맷팅\n",
        "\n",
        "* 문자열 포맷팅을 위해 새롭게 나온 기능으로 문자열 앞에 f를 붙여서 구분\n",
        "* 변수 s와 n에 대해서 문자열에 포함된 이름으로 매핑하여 사용 가능"
      ]
    },
    {
      "cell_type": "code",
      "metadata": {
        "id": "3ffhQ807BYLf",
        "outputId": "593d1e23-6982-4b07-80ff-833acb07deac",
        "colab": {
          "base_uri": "https://localhost:8080/"
        }
      },
      "source": [
        "s = \"사과\"\n",
        "n = 2\n",
        "print(f\"나는 사과가 {n}개 있다.\")\n",
        "print(f\"나는 {s}가 {n}개 있다.\")"
      ],
      "execution_count": 101,
      "outputs": [
        {
          "output_type": "stream",
          "name": "stdout",
          "text": [
            "나는 사과가 2개 있다.\n",
            "나는 사과가 2 개 있다.\n"
          ]
        }
      ]
    },
    {
      "cell_type": "markdown",
      "metadata": {
        "id": "9zQ6zYkRR_dt"
      },
      "source": [
        "* 기존의 문자열 포맷을 문자열 다음 기호 : 뒤에 표현하여 그대로 사용 가능"
      ]
    },
    {
      "cell_type": "code",
      "metadata": {
        "id": "UOYcnlERBxhy",
        "outputId": "1a7f7f0c-6c6f-46af-d2b2-4498f440eda4",
        "colab": {
          "base_uri": "https://localhost:8080/"
        }
      },
      "source": [
        "print(f'{\"Hello\":8}')\n",
        "print(f'{\"Hello\":<8}')\n",
        "print(f'{\"Hello\":>8}')\n",
        "print(f'{\"Hello\":^8}')\n",
        "print(f'{\"Hello\":~^8}')\n",
        "print(f'{\"Hello\":-^8}')\n",
        "print(f'{3.141592:0.4f}')\n",
        "print(f'{3.141592:8.4f}')\n",
        "print(f'{{중괄호}}')"
      ],
      "execution_count": 104,
      "outputs": [
        {
          "output_type": "stream",
          "name": "stdout",
          "text": [
            "Hello   \n",
            "Hello   \n",
            "   Hello\n",
            " Hello  \n",
            "~Hello~~\n",
            "-Hello--\n",
            "3.1416\n",
            "  3.1416\n",
            "{중괄호}\n"
          ]
        }
      ]
    },
    {
      "cell_type": "code",
      "source": [],
      "metadata": {
        "id": "4X_s1-aKSsy8"
      },
      "execution_count": null,
      "outputs": []
    }
  ]
}