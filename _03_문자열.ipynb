{
  "nbformat": 4,
  "nbformat_minor": 0,
  "metadata": {
    "colab": {
      "provenance": [],
      "toc_visible": true,
      "include_colab_link": true
    },
    "kernelspec": {
      "name": "python3",
      "display_name": "Python 3"
    }
  },
  "cells": [
    {
      "cell_type": "markdown",
      "metadata": {
        "id": "view-in-github",
        "colab_type": "text"
      },
      "source": [
        "<a href=\"https://colab.research.google.com/github/yskim1230/python-basic/blob/main/_03_%EB%AC%B8%EC%9E%90%EC%97%B4.ipynb\" target=\"_parent\"><img src=\"https://colab.research.google.com/assets/colab-badge.svg\" alt=\"Open In Colab\"/></a>"
      ]
    },
    {
      "cell_type": "markdown",
      "metadata": {
        "id": "bg5ZXMV2sn1M"
      },
      "source": [
        "# 문자열(String)"
      ]
    },
    {
      "cell_type": "markdown",
      "metadata": {
        "id": "Lj_iZPKnCRP0"
      },
      "source": [
        "\n",
        "\n",
        "---\n",
        "\n"
      ]
    },
    {
      "cell_type": "markdown",
      "metadata": {
        "id": "E3Cd7WwAxDxm"
      },
      "source": [
        "## 문자열 정의\n"
      ]
    },
    {
      "cell_type": "code",
      "metadata": {
        "id": "YLGtw6y5iHPK"
      },
      "source": [],
      "execution_count": null,
      "outputs": []
    },
    {
      "cell_type": "code",
      "metadata": {
        "id": "1t41e-64iKjc"
      },
      "source": [],
      "execution_count": null,
      "outputs": []
    },
    {
      "cell_type": "markdown",
      "metadata": {
        "id": "aKsMBDZohTu4"
      },
      "source": [
        "## 문자열 생성\n",
        "\n",
        "* 파이썬에서 문자열은 작은따옴표(') 또는 큰 따옴표(\")로 표현\n"
      ]
    },
    {
      "cell_type": "code",
      "metadata": {
        "id": "qLh1E-1_hxR_"
      },
      "source": [],
      "execution_count": null,
      "outputs": []
    },
    {
      "cell_type": "markdown",
      "metadata": {
        "id": "z250OOXBirgb"
      },
      "source": [
        "### 따옴표가 있는 문자열 생성\n",
        "\n",
        "* 문자열에 작은따옴표가 있을 경우, 큰따옴표로 둘러싸서 표현\n",
        "* 문자열에 큰따옴표가 있을 경우, 작은따옴표로 둘러싸서 표현\n",
        "* 이스케이프 코드 \\를 이용하여 작은따옴표(‘)와 큰따옴표(“)를 문자열에 포함"
      ]
    },
    {
      "cell_type": "code",
      "metadata": {
        "id": "JYNKaVT0i0aF"
      },
      "source": [],
      "execution_count": null,
      "outputs": []
    },
    {
      "cell_type": "markdown",
      "metadata": {
        "id": "rM5rFj7nnx6Z"
      },
      "source": [
        "### 여러 줄이 있는 문자열 생성\n",
        "\n",
        "* 이스케이프 문자(\\\\n)를 이용하여 여러 줄이 있는 문자열 생성 가능"
      ]
    },
    {
      "cell_type": "code",
      "metadata": {
        "id": "XWqwisIai6ot"
      },
      "source": [],
      "execution_count": null,
      "outputs": []
    },
    {
      "cell_type": "markdown",
      "metadata": {
        "id": "IKC5jvDpoGAT"
      },
      "source": [
        "* 작은 따옴표 3개 또는 큰 따옴표 3개를 이용하여 여러 줄이 있는 문자열 생성"
      ]
    },
    {
      "cell_type": "code",
      "metadata": {
        "id": "pgxgO7QwoDH8"
      },
      "source": [],
      "execution_count": null,
      "outputs": []
    },
    {
      "cell_type": "markdown",
      "metadata": {
        "id": "PzXHy8FxoW5l"
      },
      "source": [
        "\n",
        "\n",
        "---\n",
        "\n"
      ]
    },
    {
      "cell_type": "markdown",
      "metadata": {
        "id": "d38eO6_roX5E"
      },
      "source": [
        "## 문자열 연산(String Operators)"
      ]
    },
    {
      "cell_type": "markdown",
      "metadata": {
        "id": "SP7ztoZhXRV4"
      },
      "source": [
        "### 문자열 더하기\n",
        "\n",
        "+ 연산자를 사용하여 문자열 연결\n"
      ]
    },
    {
      "cell_type": "code",
      "metadata": {
        "id": "ZuecZ1D2oPnq"
      },
      "source": [],
      "execution_count": null,
      "outputs": []
    },
    {
      "cell_type": "markdown",
      "metadata": {
        "id": "0CPt-XMbvjWx"
      },
      "source": [
        "### 문자열 곱하기\n",
        "\n",
        "* \\* 연산자를 사용하여 문자열 반복\n"
      ]
    },
    {
      "cell_type": "code",
      "metadata": {
        "id": "tmpi5CMDolHd"
      },
      "source": [],
      "execution_count": null,
      "outputs": []
    },
    {
      "cell_type": "markdown",
      "metadata": {
        "id": "pjKywfKlvvp5"
      },
      "source": [
        "### 문자열 길이(length)\n",
        "\n",
        "* 문자열 길이를 구하는 `len()` 함수"
      ]
    },
    {
      "cell_type": "code",
      "metadata": {
        "id": "vKff0qQdvtqh"
      },
      "source": [],
      "execution_count": null,
      "outputs": []
    },
    {
      "cell_type": "markdown",
      "metadata": {
        "id": "QaeVCcgnv_lD"
      },
      "source": [
        "### 문자열 인덱싱(indexing)\n",
        "\n",
        "* 문자열은 리스트처럼 문자 하나하나가 상대적인 주소(offset)를 가짐\n",
        "* 이 주소를 사용해 할당된 값을 가져오는 인덱싱을 사용"
      ]
    },
    {
      "cell_type": "code",
      "metadata": {
        "id": "yuYQOYe3v5iF"
      },
      "source": [],
      "execution_count": null,
      "outputs": []
    },
    {
      "cell_type": "markdown",
      "metadata": {
        "id": "zcTUuycAw7np"
      },
      "source": [
        "### 문자열 슬라이싱(slicing)\n",
        "\n",
        "* 문자열의 주소를 이용하여 문자열을 조각(부분)을 추출"
      ]
    },
    {
      "cell_type": "code",
      "metadata": {
        "id": "JJUbjwcgw6PG"
      },
      "source": [],
      "execution_count": null,
      "outputs": []
    },
    {
      "cell_type": "markdown",
      "metadata": {
        "id": "-drrAXi3xY3y"
      },
      "source": [
        "\n",
        "\n",
        "---\n",
        "\n"
      ]
    },
    {
      "cell_type": "markdown",
      "metadata": {
        "id": "ZYyzer0TxVll"
      },
      "source": [
        "## 문자열 메소드(String Methods)\n"
      ]
    },
    {
      "cell_type": "markdown",
      "metadata": {
        "id": "5VO3DGMAyxHc"
      },
      "source": [
        "### capitalize() / casefold()\n",
        "\n",
        "* 문자열 \"string\"에 대해 `capitalize()`를 실행하면, 첫 문자가 대문자인 \"String\" 문자열로 변환\n",
        "* 문자열 \"String\"에 대해 `casefold()`를 실행하면, 모든 문자가 소문자인 \"string\" 문자열로 변환"
      ]
    },
    {
      "cell_type": "code",
      "metadata": {
        "id": "cXTaqtYbxNb3"
      },
      "source": [],
      "execution_count": null,
      "outputs": []
    },
    {
      "cell_type": "markdown",
      "metadata": {
        "id": "XE4t6o1f0haA"
      },
      "source": [
        "### count()\n",
        "\n",
        "* 문자열 \"string string\"에 포함된 문자 's'의 갯수를 반환하도록 `count()`를 실행\n",
        "* 문자 's'가 총 2개 존재하므로 2를 반환\n",
        "* 부분 문자열 \"str\"이 몇개인지 반환하는 것도 가능하고, 부분 문자열 \"str\"이 총 2개 존재하므로 2를 반환"
      ]
    },
    {
      "cell_type": "code",
      "metadata": {
        "id": "4o34mT_N0UDY"
      },
      "source": [],
      "execution_count": null,
      "outputs": []
    },
    {
      "cell_type": "markdown",
      "metadata": {
        "id": "8k0mftqo0yVe"
      },
      "source": [
        "### find() / rfind()\n",
        "\n",
        "* 문자열 \"string string\"에서 문자 's'의 해당 위치를 `find()`를 통해 반환\n",
        "* 문자열 \"string string\"에서 부분 문자열 \"ing\"의 해당 위치를 `find()`를 통해 반환\n",
        "* 문자열 \"string string\"에서 문자 's'를 해당 위치를 `rfind()`를 통해 오른쪽부터 탐색하여 가장 큰 인덱스를 반환\n",
        "* 문자열 \"string string\"에서 부분 문자열 \"ring\"를 해당 위치를 `rfind()`를 통해 오른쪽부터 탐색하여 가장 큰 인덱스를 반환"
      ]
    },
    {
      "cell_type": "code",
      "metadata": {
        "id": "1TDT5Akz0nQn"
      },
      "source": [],
      "execution_count": null,
      "outputs": []
    },
    {
      "cell_type": "markdown",
      "metadata": {
        "id": "T9p8ylMq1-u7"
      },
      "source": [
        "### index() / rindex()\n",
        "\n",
        "* 문자열 \"string string\"에서 문자 's'의 해당 위치를 `index()`를 통해 반환\n",
        "* 문자열 \"string string\"에서 부분 문자열 \"ing\"의 해당 위치를 `index()`를 통해 반환\n",
        "* 문자열 \"string string\"에서 문자 's'를 해당 위치를 `rindex()`를 통해 오른쪽부터 탐색하여 가장 큰 인덱스를 반환\n",
        "* 문자열 \"string string\"에서 부분 문자열 \"ring\"를 해당 위치를 `rindex()`를 통해 오른쪽부터 탐색하여 가장 큰 인덱스를 반환\n",
        "* 문자열 \"string string\"에서 문자 'z'를 해당 위치를 `rindex()` 함수를 통해 오른쪽부터 탐색하지만 찾을 수 없어서 'ValueError' 발생"
      ]
    },
    {
      "cell_type": "code",
      "metadata": {
        "id": "tzp-p20519Bv"
      },
      "source": [],
      "execution_count": null,
      "outputs": []
    },
    {
      "cell_type": "markdown",
      "metadata": {
        "id": "prav01jjje_G"
      },
      "source": [
        "### isalnum()\n",
        "\n",
        "* `isalnum()`은 문자열에 알파벳이나 숫자가 1개 이상 있으면 True 반환\n",
        "* 문자열 \"string\"은 알파벳으로 구성 되었으므로 True 반환\n",
        "* 문자열 \"한글\"은 알파벳으로 구성 되어있으므로 True 반환\n",
        "* 문자열 \"!@#\"은 특수기호로 구성 되어있으므로 False 반환\n",
        "* 문자열 \"123\"은 숫자들로 구성 되어있으므로 True 반환"
      ]
    },
    {
      "cell_type": "code",
      "metadata": {
        "id": "6H6gBF44DIke"
      },
      "source": [],
      "execution_count": null,
      "outputs": []
    },
    {
      "cell_type": "markdown",
      "metadata": {
        "id": "eHIt6rNFYCGE"
      },
      "source": [
        "### isalpha()\n",
        "\n",
        "* `isalpha()`는 문자열에 알파벳이 1개 이상 있으면 True 반환\n",
        "* 문자열 \"string\"은 알파벳으로 구성 되었으므로 True 반환\n",
        "* 문자열 \"한글\"은 알파벳으로 구성 되어있으므로 True 반환\n",
        "* 문자열 \"!@#\"은 특수기호로 구성 되어있으므로 False 반환\n",
        "* 문자열 \"123\"은 숫자들로 구성 되어있으므로 Flase 반환"
      ]
    },
    {
      "cell_type": "code",
      "metadata": {
        "id": "_dFo8ynlmd_B"
      },
      "source": [],
      "execution_count": null,
      "outputs": []
    },
    {
      "cell_type": "markdown",
      "metadata": {
        "id": "_WGNBgfilCZg"
      },
      "source": [
        "### isdecimal()\n",
        "\n",
        "* `isdecimal()`는 문자열의 모든 문자가 10진수 문자이면 True 반환\n",
        "* 문자열 \"123\"은 모두 10진수 문자열이므로 True 반환\n",
        "* 문자열 \"1.23\"은 실수형 문자열이므로 False 반환"
      ]
    },
    {
      "cell_type": "code",
      "metadata": {
        "id": "E2kVKYNHjtlN"
      },
      "source": [],
      "execution_count": null,
      "outputs": []
    },
    {
      "cell_type": "markdown",
      "metadata": {
        "id": "J0pJ-8T_Yhlx"
      },
      "source": [
        "### isdigit()\n",
        "\n",
        "* `isdigit()`는 문자열의 모든 문자가 숫자일 때 True 반환\n",
        "* 문자열 \"123\"은 모든 문자가 숫자에 해당하므로 True 반환\n",
        "* 문자열 \"1.23\"은 문자 중 숫자에 해당안되는 . 이 존재하여 False"
      ]
    },
    {
      "cell_type": "code",
      "metadata": {
        "id": "oOsCWfMhmjHo"
      },
      "source": [],
      "execution_count": null,
      "outputs": []
    },
    {
      "cell_type": "markdown",
      "metadata": {
        "id": "2jPib-Z8ZAlj"
      },
      "source": [
        "### isnumeric()\n",
        "\n",
        "* `isnumeric()`는 문자열의 모든 문자가 수치형일 때 True 반환\n",
        "* 문자열 \"123\"은 모든 문자가 숫자에 해당하므로 True 반환\n",
        "* 문자열 \"1.23\"은 문자 중 수치형에 해당안되는 . 이 존재하여 False"
      ]
    },
    {
      "cell_type": "code",
      "metadata": {
        "id": "J5EsHyjfpidQ"
      },
      "source": [],
      "execution_count": null,
      "outputs": []
    },
    {
      "cell_type": "markdown",
      "metadata": {
        "id": "krM9QrrEp5TB"
      },
      "source": [
        "### isidentifier()\n",
        "\n",
        "* `isidentifier()`는 문자열이 파이썬에서 사용하는 식별자인 경우 True 반환\n",
        "* 문자열 \"123\"은 식별자로 사용되지 않는 문자열이라서 False 반환\n",
        "* 문자열 \"True\"는 식별자로 사용되기 때문에 True 반환\n",
        "* 문자열 \"print\"는 식별자로 사용되기 때문에 True 반환"
      ]
    },
    {
      "cell_type": "code",
      "metadata": {
        "id": "ir5WknFUpO7r"
      },
      "source": [],
      "execution_count": null,
      "outputs": []
    },
    {
      "cell_type": "markdown",
      "metadata": {
        "id": "jHm6aRyAlypa"
      },
      "source": [
        "### isspace()\n",
        "\n",
        "* 문자열 \" \"은 문자열 내에 공백 문자가 있어서 True 반환\n",
        "* 문자열 \" 1 \"은 문자열 내에 공백 아닌 문자가 있어서 False 반환"
      ]
    },
    {
      "cell_type": "code",
      "metadata": {
        "id": "x0Nmi2NtqQpI"
      },
      "source": [],
      "execution_count": null,
      "outputs": []
    },
    {
      "cell_type": "markdown",
      "metadata": {
        "id": "SG3Odc9fIHpT"
      },
      "source": [
        "### istitle()\n",
        "\n",
        "* 문자열 \"String\"은 문자열 내에 제목과 같이 첫 글자가 대문자여서 True 반환\n",
        "* 문자열 \"STRING\"은 모든 문자가 대문자이기 때문에 False 반환"
      ]
    },
    {
      "cell_type": "code",
      "metadata": {
        "id": "c7eht5HErgrr"
      },
      "source": [],
      "execution_count": null,
      "outputs": []
    },
    {
      "cell_type": "markdown",
      "metadata": {
        "id": "ctZKMIrHI8-A"
      },
      "source": [
        "### islower()\n",
        "\n",
        "* 문자열 \"string\"은 모든 문자가 소문자여서 True 반환\n",
        "* 문자열 \"String\"은 첫 문자가 대문자여서 False 반환"
      ]
    },
    {
      "cell_type": "code",
      "metadata": {
        "id": "xznSyZT9lzp5"
      },
      "source": [],
      "execution_count": null,
      "outputs": []
    },
    {
      "cell_type": "markdown",
      "metadata": {
        "id": "KVnECEUXI_MN"
      },
      "source": [
        "### isupper() 함수\n",
        "\n",
        "* 문자열 \"STRING\"은 모든 문자가 대문자여서 True 반환\n",
        "* 문자열 \"String\"은 첫 문자만 대문자여서 False 반환"
      ]
    },
    {
      "cell_type": "code",
      "metadata": {
        "id": "ZAmXy2lCqIbi"
      },
      "source": [],
      "execution_count": null,
      "outputs": []
    },
    {
      "cell_type": "markdown",
      "metadata": {
        "id": "mGdbqGsSr8Ee"
      },
      "source": [
        "### join()\n",
        "\n",
        "* 문자열 \"String\"에 대해서 `join()`으로 공백 문자 ' '를 문자 사이마다 추가한 문자열 \"S t r i n g\"을 반환\n",
        "* 문자열 \"String\"에 대해서 `join()` 으로 공백 문자 '_'를 문자 사이마다 추가한 문자열 \"S_t_r_i_n_g\"을 반환\n",
        "* 문자열 \"String\"에 대해서 `join()` 으로 공백 문자 '|'를 문자 사이마다 추가한 문자열 \"S|t|r|i|n|g\"을 반환"
      ]
    },
    {
      "cell_type": "code",
      "metadata": {
        "id": "A8tTe2l3rwLw"
      },
      "source": [],
      "execution_count": null,
      "outputs": []
    },
    {
      "cell_type": "markdown",
      "metadata": {
        "id": "zDmq0ExIsdtu"
      },
      "source": [
        "### center() / ljust() / rjust()\n",
        "\n",
        "* 문자열 \"String\"에 대해서 `center()`를 사용하여 너비 10에 해당하는 문자열 길이에 가운데 정렬한 문자열 '  String  '로 변환\n",
        "* 문자열 \"String\"에 대해서 `ljust()`를 사용하여 너비 10에 해당하는 문자열 길이에 왼쪽 정렬한 문자열 'String    '로 변환\n",
        "* 문자열 \"String\"에 대해서 `rjust()`를 사용하여 너비 10에 해당하는 문자열 길이에 오른쪽 정렬한 문자열 '    String'로 변환"
      ]
    },
    {
      "cell_type": "code",
      "metadata": {
        "id": "sFA02kX3sf2q"
      },
      "source": [],
      "execution_count": null,
      "outputs": []
    },
    {
      "cell_type": "markdown",
      "metadata": {
        "id": "-iP2QrFn0kWZ"
      },
      "source": [
        "### lower() / upper() / title() / swapcase()\n",
        "\n",
        "* 문자열 \"String\"을 `lower()`를 이용하여 모든 문자가 소문자로 변환된 \"string\" 반환\n",
        "* 문자열 \"String\"을 `upper()`를 이용하여 모든 문자가 대문자로 변환된 \"STRING\" 반환\n",
        "* 문자열 \"string\"을 `title()`를 이용하여 첫 문자가 대문자로 변환된 \"String\" 반환\n",
        "* 문자열 \"String\"을 `swapcase()`를 이용하여 대문자는 소문자로 변환되고 소문자는 대문자로 변환된 \"sTRING\" 반환\n"
      ]
    },
    {
      "cell_type": "code",
      "metadata": {
        "id": "K8JmvhjC0j-e"
      },
      "source": [],
      "execution_count": null,
      "outputs": []
    },
    {
      "cell_type": "markdown",
      "metadata": {
        "id": "oyk35mDo1d2M"
      },
      "source": [
        "### strip() / lstrip() / rstrip()\n",
        "\n",
        "* 양쪽 공백이 포함된 문자열 \"  String  \"을 `strip()`를 통해 공백 제거\n",
        "* 양쪽 공백이 포함된 문자열 \"  String  \"을 `lstrip()`를 통해 왼쪽 공백 제거\n",
        "* 양쪽 공백이 포함된 문자열 \"  String  \"을 `rstrip()`를 통해 오른쪽 공백 제거"
      ]
    },
    {
      "cell_type": "code",
      "metadata": {
        "id": "Y8D90szl1YOa"
      },
      "source": [],
      "execution_count": null,
      "outputs": []
    },
    {
      "cell_type": "markdown",
      "metadata": {
        "id": "zPLZHaXu7OYj"
      },
      "source": [
        "### partition() / rpartition()\n",
        "\n",
        "* 문자열 \"String\"을 `partition()`를 이용하여 문자 't' 기준으로 분할\n",
        "* 문자열 \"String String\"을 `rpartition()`를 이용하여 마지막 문자 'S'를 기준으로 분할"
      ]
    },
    {
      "cell_type": "code",
      "metadata": {
        "id": "fhmrvPHl4I6Q"
      },
      "source": [],
      "execution_count": null,
      "outputs": []
    },
    {
      "cell_type": "markdown",
      "metadata": {
        "id": "8YF_Rheq7fe6"
      },
      "source": [
        "### replace()\n",
        "\n",
        "* 문자열 \"String\"을 `replace()`를 이용해 문자열 \"Str\"을 문자 'R'로 교체"
      ]
    },
    {
      "cell_type": "code",
      "metadata": {
        "id": "nNuELc1q7Wwf"
      },
      "source": [],
      "execution_count": null,
      "outputs": []
    },
    {
      "cell_type": "markdown",
      "metadata": {
        "id": "rIP8GXbM7p3w"
      },
      "source": [
        "### split() / rsplit() / splitlines()\n",
        "\n",
        "* 문자열 \"1 2 3\"을 `split()`의 기본 구분자를 이용하여 '1', '2', '3' 으로 구분\n",
        "* 문자열 \"1_2_3\"을 `split()`으로 구분자 '_'를 이용하여 '1', '2', '3' 으로 구분\n",
        "* 문자열 \"1 2 3\"을 `rsplit()`으로 구분자 '_'를 이용하여 오른쪽부터 1번만 구분하여 '1_2', '3' 으로 구분\n",
        "* 문자열 \"123\\n123\\n123\\n\"을 `splitlines()` 함수를 이용하여 라인 단위로 구분하여 '123, '123, '123 반환"
      ]
    },
    {
      "cell_type": "code",
      "metadata": {
        "id": "Ns3ZMQJ17mv7"
      },
      "source": [],
      "execution_count": null,
      "outputs": []
    },
    {
      "cell_type": "markdown",
      "metadata": {
        "id": "tx8dAOPm8DTv"
      },
      "source": [
        "### startswith() / endswith()\n",
        "\n",
        "* 문자열 \"String\"에서 시작 문자가 'S'인지 `startswith()`를 통해 확인\n",
        "* 문자열 \"String\"에서 마지막 문자가 'g'인지 `endswith()`를 통해 확인"
      ]
    },
    {
      "cell_type": "code",
      "metadata": {
        "id": "dNB3Da_x7587"
      },
      "source": [],
      "execution_count": null,
      "outputs": []
    },
    {
      "cell_type": "markdown",
      "metadata": {
        "id": "OZatwJSe8Svd"
      },
      "source": [
        "### zfill()\n",
        "\n",
        "* 문자열 \"123\"에서 너비 8만큼으로 늘리고 비어있는 부분에 '0'이 채워진 문자열 \"00000123\" 반환"
      ]
    },
    {
      "cell_type": "code",
      "metadata": {
        "id": "rWqlvXJV8MJF"
      },
      "source": [],
      "execution_count": null,
      "outputs": []
    },
    {
      "cell_type": "markdown",
      "metadata": {
        "id": "yjsh7OcA8fIu"
      },
      "source": [
        "\n",
        "\n",
        "---\n",
        "\n"
      ]
    },
    {
      "cell_type": "markdown",
      "metadata": {
        "id": "Og91a1bd8gd-"
      },
      "source": [
        "## 문자열 서식(String Format)\n"
      ]
    },
    {
      "cell_type": "markdown",
      "metadata": {
        "id": "U7QLYGjk8qbO"
      },
      "source": [
        "### 문자열 포맷팅(String Formatting)\n",
        "\n",
        "* 문자열 내에서 서식에 맞추어 특정 값을 삽입 또는 변경\n",
        "* 기호 % 뒤에 있는 값이 문자열 내의 서식에 순서대로 매핑"
      ]
    },
    {
      "cell_type": "code",
      "metadata": {
        "id": "_z3A1Rmu8Wex"
      },
      "source": [],
      "execution_count": null,
      "outputs": []
    },
    {
      "cell_type": "markdown",
      "metadata": {
        "id": "PP32b9L3-eVL"
      },
      "source": [
        "### 정렬, 공백, 소수점 포맷\n",
        "\n",
        "* 포맷 문자 앞에 숫자는 길이를 의미\n",
        "* -는 왼쪽 정렬을 의미\n",
        "* 소수점 ‘.’ 뒤에 숫자는 소숫점 이하 개수를 의미"
      ]
    },
    {
      "cell_type": "code",
      "metadata": {
        "id": "uG9qhf2L9K_A"
      },
      "source": [],
      "execution_count": null,
      "outputs": []
    },
    {
      "cell_type": "markdown",
      "metadata": {
        "id": "SrIx3mkM_C8G"
      },
      "source": [
        "### 문자열 format 메소드\n",
        "\n",
        "* 문자열 `format()`의 인덱스를 이용한 고급 포맷팅\n",
        "* 인덱스 번호에 따라 `format()` 함수의 각 값들이 매핑"
      ]
    },
    {
      "cell_type": "code",
      "metadata": {
        "id": "uf469Z6l-6E0"
      },
      "source": [],
      "execution_count": null,
      "outputs": []
    },
    {
      "cell_type": "markdown",
      "metadata": {
        "id": "0pTK7FHW_jIn"
      },
      "source": [
        "* 문자열 `format()` 메소드의 인덱스와 변수 이름을 이용한 포맷팅\n",
        "* 변수 이름 s와 n을 지정하여 \"사과\"와 숫자 2를 매핑"
      ]
    },
    {
      "cell_type": "code",
      "metadata": {
        "id": "Bwx0XnkE_Yvn"
      },
      "source": [],
      "execution_count": null,
      "outputs": []
    },
    {
      "cell_type": "markdown",
      "metadata": {
        "id": "0yErNkKPAA2F"
      },
      "source": [
        "* 문자열 `format()` 함수의 정렬, 공백, 소수점\n"
      ]
    },
    {
      "cell_type": "code",
      "metadata": {
        "id": "Nfi9kAeD_z3p"
      },
      "source": [],
      "execution_count": null,
      "outputs": []
    },
    {
      "cell_type": "markdown",
      "metadata": {
        "id": "1GS_wR86BmtE"
      },
      "source": [
        "### f 문자열 포맷팅\n",
        "\n",
        "* 문자열 포맷팅을 위해 새롭게 나온 기능으로 문자열 앞에 f를 붙여서 구분\n",
        "* 변수 s와 n에 대해서 문자열에 포함된 이름으로 매핑하여 사용 가능"
      ]
    },
    {
      "cell_type": "code",
      "metadata": {
        "id": "3ffhQ807BYLf"
      },
      "source": [],
      "execution_count": null,
      "outputs": []
    },
    {
      "cell_type": "markdown",
      "metadata": {
        "id": "9zQ6zYkRR_dt"
      },
      "source": [
        "* 기존의 문자열 포맷을 문자열 다음 기호 : 뒤에 표현하여 그대로 사용 가능"
      ]
    },
    {
      "cell_type": "code",
      "metadata": {
        "id": "UOYcnlERBxhy"
      },
      "source": [],
      "execution_count": null,
      "outputs": []
    }
  ]
}